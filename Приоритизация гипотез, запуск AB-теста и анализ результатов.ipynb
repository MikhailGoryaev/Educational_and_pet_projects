{
  "cells": [
    {
      "cell_type": "markdown",
      "metadata": {
        "id": "Rj2-MoHeFV0e"
      },
      "source": [
        "**В данном исследовании рассматривается список гипотез для увеличения выручки крупного интернет-магазина.\n",
        "Основными задачами исследования являются : приоритизация гипотез, запуск A/B-теста и анализ результатов** "
      ]
    },
    {
      "cell_type": "markdown",
      "metadata": {
        "id": "LqaFzgD6FV0f"
      },
      "source": [
        "### Приоритизация гипотез\n",
        "\n",
        "В файле /datasets/hypothesis.csv 9 гипотез по увеличению выручки интернет-магазина с указанными параметрами Reach, Impact, Confidence, Effort.\n",
        "Прежде всего,  откроем файл и проведем предобработку данных."
      ]
    },
    {
      "cell_type": "code",
      "execution_count": null,
      "metadata": {
        "id": "VYAYA2RuFV0g"
      },
      "outputs": [],
      "source": [
        "#импортируем необходимые в рамках исследования библиотеки\n",
        "import pandas as pd\n",
        "import scipy.stats as stats\n",
        "import datetime as dt\n",
        "import numpy as np\n",
        "import matplotlib.pyplot as plt"
      ]
    },
    {
      "cell_type": "code",
      "execution_count": null,
      "metadata": {
        "colab": {
          "base_uri": "https://localhost:8080/",
          "height": 540
        },
        "id": "exuEyVLkFV0o",
        "outputId": "80505dba-9d1d-426e-bbeb-68987483110d"
      },
      "outputs": [
        {
          "output_type": "stream",
          "name": "stdout",
          "text": [
            "<class 'pandas.core.frame.DataFrame'>\n",
            "RangeIndex: 9 entries, 0 to 8\n",
            "Data columns (total 5 columns):\n",
            " #   Column      Non-Null Count  Dtype \n",
            "---  ------      --------------  ----- \n",
            " 0   Hypothesis  9 non-null      object\n",
            " 1   Reach       9 non-null      int64 \n",
            " 2   Impact      9 non-null      int64 \n",
            " 3   Confidence  9 non-null      int64 \n",
            " 4   Efforts     9 non-null      int64 \n",
            "dtypes: int64(4), object(1)\n",
            "memory usage: 488.0+ bytes\n"
          ]
        },
        {
          "output_type": "execute_result",
          "data": {
            "text/plain": [
              "                                                                                                     Hypothesis  \\\n",
              "0            Добавить два новых канала привлечения трафика, что позволит привлекать на 30% больше пользователей   \n",
              "1                                     Запустить собственную службу доставки, что сократит срок доставки заказов   \n",
              "2  Добавить блоки рекомендаций товаров на сайт интернет магазина, чтобы повысить конверсию и средний чек заказа   \n",
              "3           Изменить структура категорий, что увеличит конверсию, т.к. пользователи быстрее найдут нужный товар   \n",
              "4                              Изменить цвет фона главной страницы, чтобы увеличить вовлеченность пользователей   \n",
              "5                      Добавить страницу отзывов клиентов о магазине, что позволит увеличить количество заказов   \n",
              "6          Показать на главной странице баннеры с актуальными акциями и распродажами, чтобы увеличить конверсию   \n",
              "7              Добавить форму подписки на все основные страницы, чтобы собрать базу клиентов для email-рассылок   \n",
              "8                                                       Запустить акцию, дающую скидку на товар в день рождения   \n",
              "\n",
              "   Reach  Impact  Confidence  Efforts  \n",
              "0      3      10           8        6  \n",
              "1      2       5           4       10  \n",
              "2      8       3           7        3  \n",
              "3      8       3           3        8  \n",
              "4      3       1           1        1  \n",
              "5      3       2           2        3  \n",
              "6      5       3           8        3  \n",
              "7     10       7           8        5  \n",
              "8      1       9           9        5  "
            ],
            "text/html": [
              "\n",
              "  <div id=\"df-6558d9f7-ae09-463a-bbc7-a99179c4f2e3\">\n",
              "    <div class=\"colab-df-container\">\n",
              "      <div>\n",
              "<style scoped>\n",
              "    .dataframe tbody tr th:only-of-type {\n",
              "        vertical-align: middle;\n",
              "    }\n",
              "\n",
              "    .dataframe tbody tr th {\n",
              "        vertical-align: top;\n",
              "    }\n",
              "\n",
              "    .dataframe thead th {\n",
              "        text-align: right;\n",
              "    }\n",
              "</style>\n",
              "<table border=\"1\" class=\"dataframe\">\n",
              "  <thead>\n",
              "    <tr style=\"text-align: right;\">\n",
              "      <th></th>\n",
              "      <th>Hypothesis</th>\n",
              "      <th>Reach</th>\n",
              "      <th>Impact</th>\n",
              "      <th>Confidence</th>\n",
              "      <th>Efforts</th>\n",
              "    </tr>\n",
              "  </thead>\n",
              "  <tbody>\n",
              "    <tr>\n",
              "      <th>0</th>\n",
              "      <td>Добавить два новых канала привлечения трафика, что позволит привлекать на 30% больше пользователей</td>\n",
              "      <td>3</td>\n",
              "      <td>10</td>\n",
              "      <td>8</td>\n",
              "      <td>6</td>\n",
              "    </tr>\n",
              "    <tr>\n",
              "      <th>1</th>\n",
              "      <td>Запустить собственную службу доставки, что сократит срок доставки заказов</td>\n",
              "      <td>2</td>\n",
              "      <td>5</td>\n",
              "      <td>4</td>\n",
              "      <td>10</td>\n",
              "    </tr>\n",
              "    <tr>\n",
              "      <th>2</th>\n",
              "      <td>Добавить блоки рекомендаций товаров на сайт интернет магазина, чтобы повысить конверсию и средний чек заказа</td>\n",
              "      <td>8</td>\n",
              "      <td>3</td>\n",
              "      <td>7</td>\n",
              "      <td>3</td>\n",
              "    </tr>\n",
              "    <tr>\n",
              "      <th>3</th>\n",
              "      <td>Изменить структура категорий, что увеличит конверсию, т.к. пользователи быстрее найдут нужный товар</td>\n",
              "      <td>8</td>\n",
              "      <td>3</td>\n",
              "      <td>3</td>\n",
              "      <td>8</td>\n",
              "    </tr>\n",
              "    <tr>\n",
              "      <th>4</th>\n",
              "      <td>Изменить цвет фона главной страницы, чтобы увеличить вовлеченность пользователей</td>\n",
              "      <td>3</td>\n",
              "      <td>1</td>\n",
              "      <td>1</td>\n",
              "      <td>1</td>\n",
              "    </tr>\n",
              "    <tr>\n",
              "      <th>5</th>\n",
              "      <td>Добавить страницу отзывов клиентов о магазине, что позволит увеличить количество заказов</td>\n",
              "      <td>3</td>\n",
              "      <td>2</td>\n",
              "      <td>2</td>\n",
              "      <td>3</td>\n",
              "    </tr>\n",
              "    <tr>\n",
              "      <th>6</th>\n",
              "      <td>Показать на главной странице баннеры с актуальными акциями и распродажами, чтобы увеличить конверсию</td>\n",
              "      <td>5</td>\n",
              "      <td>3</td>\n",
              "      <td>8</td>\n",
              "      <td>3</td>\n",
              "    </tr>\n",
              "    <tr>\n",
              "      <th>7</th>\n",
              "      <td>Добавить форму подписки на все основные страницы, чтобы собрать базу клиентов для email-рассылок</td>\n",
              "      <td>10</td>\n",
              "      <td>7</td>\n",
              "      <td>8</td>\n",
              "      <td>5</td>\n",
              "    </tr>\n",
              "    <tr>\n",
              "      <th>8</th>\n",
              "      <td>Запустить акцию, дающую скидку на товар в день рождения</td>\n",
              "      <td>1</td>\n",
              "      <td>9</td>\n",
              "      <td>9</td>\n",
              "      <td>5</td>\n",
              "    </tr>\n",
              "  </tbody>\n",
              "</table>\n",
              "</div>\n",
              "      <button class=\"colab-df-convert\" onclick=\"convertToInteractive('df-6558d9f7-ae09-463a-bbc7-a99179c4f2e3')\"\n",
              "              title=\"Convert this dataframe to an interactive table.\"\n",
              "              style=\"display:none;\">\n",
              "        \n",
              "  <svg xmlns=\"http://www.w3.org/2000/svg\" height=\"24px\"viewBox=\"0 0 24 24\"\n",
              "       width=\"24px\">\n",
              "    <path d=\"M0 0h24v24H0V0z\" fill=\"none\"/>\n",
              "    <path d=\"M18.56 5.44l.94 2.06.94-2.06 2.06-.94-2.06-.94-.94-2.06-.94 2.06-2.06.94zm-11 1L8.5 8.5l.94-2.06 2.06-.94-2.06-.94L8.5 2.5l-.94 2.06-2.06.94zm10 10l.94 2.06.94-2.06 2.06-.94-2.06-.94-.94-2.06-.94 2.06-2.06.94z\"/><path d=\"M17.41 7.96l-1.37-1.37c-.4-.4-.92-.59-1.43-.59-.52 0-1.04.2-1.43.59L10.3 9.45l-7.72 7.72c-.78.78-.78 2.05 0 2.83L4 21.41c.39.39.9.59 1.41.59.51 0 1.02-.2 1.41-.59l7.78-7.78 2.81-2.81c.8-.78.8-2.07 0-2.86zM5.41 20L4 18.59l7.72-7.72 1.47 1.35L5.41 20z\"/>\n",
              "  </svg>\n",
              "      </button>\n",
              "      \n",
              "  <style>\n",
              "    .colab-df-container {\n",
              "      display:flex;\n",
              "      flex-wrap:wrap;\n",
              "      gap: 12px;\n",
              "    }\n",
              "\n",
              "    .colab-df-convert {\n",
              "      background-color: #E8F0FE;\n",
              "      border: none;\n",
              "      border-radius: 50%;\n",
              "      cursor: pointer;\n",
              "      display: none;\n",
              "      fill: #1967D2;\n",
              "      height: 32px;\n",
              "      padding: 0 0 0 0;\n",
              "      width: 32px;\n",
              "    }\n",
              "\n",
              "    .colab-df-convert:hover {\n",
              "      background-color: #E2EBFA;\n",
              "      box-shadow: 0px 1px 2px rgba(60, 64, 67, 0.3), 0px 1px 3px 1px rgba(60, 64, 67, 0.15);\n",
              "      fill: #174EA6;\n",
              "    }\n",
              "\n",
              "    [theme=dark] .colab-df-convert {\n",
              "      background-color: #3B4455;\n",
              "      fill: #D2E3FC;\n",
              "    }\n",
              "\n",
              "    [theme=dark] .colab-df-convert:hover {\n",
              "      background-color: #434B5C;\n",
              "      box-shadow: 0px 1px 3px 1px rgba(0, 0, 0, 0.15);\n",
              "      filter: drop-shadow(0px 1px 2px rgba(0, 0, 0, 0.3));\n",
              "      fill: #FFFFFF;\n",
              "    }\n",
              "  </style>\n",
              "\n",
              "      <script>\n",
              "        const buttonEl =\n",
              "          document.querySelector('#df-6558d9f7-ae09-463a-bbc7-a99179c4f2e3 button.colab-df-convert');\n",
              "        buttonEl.style.display =\n",
              "          google.colab.kernel.accessAllowed ? 'block' : 'none';\n",
              "\n",
              "        async function convertToInteractive(key) {\n",
              "          const element = document.querySelector('#df-6558d9f7-ae09-463a-bbc7-a99179c4f2e3');\n",
              "          const dataTable =\n",
              "            await google.colab.kernel.invokeFunction('convertToInteractive',\n",
              "                                                     [key], {});\n",
              "          if (!dataTable) return;\n",
              "\n",
              "          const docLinkHtml = 'Like what you see? Visit the ' +\n",
              "            '<a target=\"_blank\" href=https://colab.research.google.com/notebooks/data_table.ipynb>data table notebook</a>'\n",
              "            + ' to learn more about interactive tables.';\n",
              "          element.innerHTML = '';\n",
              "          dataTable['output_type'] = 'display_data';\n",
              "          await google.colab.output.renderOutput(dataTable, element);\n",
              "          const docLink = document.createElement('div');\n",
              "          docLink.innerHTML = docLinkHtml;\n",
              "          element.appendChild(docLink);\n",
              "        }\n",
              "      </script>\n",
              "    </div>\n",
              "  </div>\n",
              "  "
            ]
          },
          "metadata": {},
          "execution_count": 11
        }
      ],
      "source": [
        "try:\n",
        "    data = pd.read_csv('/datasets/hypothesis.csv')\n",
        "except:\n",
        "    data = pd.read_csv('https://code.s3.yandex.net/datasets/hypothesis.csv')\n",
        "data.info()\n",
        "pd.set_option('display.max_colwidth', None)#полное отображение содержания строк\n",
        "data"
      ]
    },
    {
      "cell_type": "markdown",
      "metadata": {
        "id": "oxLrPljLFV0r"
      },
      "source": [
        "Все данные имеют правильный формат, его менять не требуется. Также,  учитывая размер датафрейма (9 строк и 5 столбцов), можно изучить его визуально и сразу сделать вывод  об отсутствии пропусков и дубликатов в данных. Единственная необходимая предобработка - приведение названий столбцов к нижнему регистру методом str.lower():"
      ]
    },
    {
      "cell_type": "code",
      "execution_count": null,
      "metadata": {
        "colab": {
          "base_uri": "https://localhost:8080/",
          "height": 332
        },
        "id": "o_zYmfPbFV0s",
        "outputId": "b120739c-0d03-400a-bde1-fd871e8f40c6"
      },
      "outputs": [
        {
          "output_type": "execute_result",
          "data": {
            "text/plain": [
              "                                                                                                     hypothesis  \\\n",
              "0            Добавить два новых канала привлечения трафика, что позволит привлекать на 30% больше пользователей   \n",
              "1                                     Запустить собственную службу доставки, что сократит срок доставки заказов   \n",
              "2  Добавить блоки рекомендаций товаров на сайт интернет магазина, чтобы повысить конверсию и средний чек заказа   \n",
              "3           Изменить структура категорий, что увеличит конверсию, т.к. пользователи быстрее найдут нужный товар   \n",
              "4                              Изменить цвет фона главной страницы, чтобы увеличить вовлеченность пользователей   \n",
              "5                      Добавить страницу отзывов клиентов о магазине, что позволит увеличить количество заказов   \n",
              "6          Показать на главной странице баннеры с актуальными акциями и распродажами, чтобы увеличить конверсию   \n",
              "7              Добавить форму подписки на все основные страницы, чтобы собрать базу клиентов для email-рассылок   \n",
              "8                                                       Запустить акцию, дающую скидку на товар в день рождения   \n",
              "\n",
              "   reach  impact  confidence  efforts  \n",
              "0      3      10           8        6  \n",
              "1      2       5           4       10  \n",
              "2      8       3           7        3  \n",
              "3      8       3           3        8  \n",
              "4      3       1           1        1  \n",
              "5      3       2           2        3  \n",
              "6      5       3           8        3  \n",
              "7     10       7           8        5  \n",
              "8      1       9           9        5  "
            ],
            "text/html": [
              "\n",
              "  <div id=\"df-8c2098d6-9ee7-4c57-92e0-a8896ee9630e\">\n",
              "    <div class=\"colab-df-container\">\n",
              "      <div>\n",
              "<style scoped>\n",
              "    .dataframe tbody tr th:only-of-type {\n",
              "        vertical-align: middle;\n",
              "    }\n",
              "\n",
              "    .dataframe tbody tr th {\n",
              "        vertical-align: top;\n",
              "    }\n",
              "\n",
              "    .dataframe thead th {\n",
              "        text-align: right;\n",
              "    }\n",
              "</style>\n",
              "<table border=\"1\" class=\"dataframe\">\n",
              "  <thead>\n",
              "    <tr style=\"text-align: right;\">\n",
              "      <th></th>\n",
              "      <th>hypothesis</th>\n",
              "      <th>reach</th>\n",
              "      <th>impact</th>\n",
              "      <th>confidence</th>\n",
              "      <th>efforts</th>\n",
              "    </tr>\n",
              "  </thead>\n",
              "  <tbody>\n",
              "    <tr>\n",
              "      <th>0</th>\n",
              "      <td>Добавить два новых канала привлечения трафика, что позволит привлекать на 30% больше пользователей</td>\n",
              "      <td>3</td>\n",
              "      <td>10</td>\n",
              "      <td>8</td>\n",
              "      <td>6</td>\n",
              "    </tr>\n",
              "    <tr>\n",
              "      <th>1</th>\n",
              "      <td>Запустить собственную службу доставки, что сократит срок доставки заказов</td>\n",
              "      <td>2</td>\n",
              "      <td>5</td>\n",
              "      <td>4</td>\n",
              "      <td>10</td>\n",
              "    </tr>\n",
              "    <tr>\n",
              "      <th>2</th>\n",
              "      <td>Добавить блоки рекомендаций товаров на сайт интернет магазина, чтобы повысить конверсию и средний чек заказа</td>\n",
              "      <td>8</td>\n",
              "      <td>3</td>\n",
              "      <td>7</td>\n",
              "      <td>3</td>\n",
              "    </tr>\n",
              "    <tr>\n",
              "      <th>3</th>\n",
              "      <td>Изменить структура категорий, что увеличит конверсию, т.к. пользователи быстрее найдут нужный товар</td>\n",
              "      <td>8</td>\n",
              "      <td>3</td>\n",
              "      <td>3</td>\n",
              "      <td>8</td>\n",
              "    </tr>\n",
              "    <tr>\n",
              "      <th>4</th>\n",
              "      <td>Изменить цвет фона главной страницы, чтобы увеличить вовлеченность пользователей</td>\n",
              "      <td>3</td>\n",
              "      <td>1</td>\n",
              "      <td>1</td>\n",
              "      <td>1</td>\n",
              "    </tr>\n",
              "    <tr>\n",
              "      <th>5</th>\n",
              "      <td>Добавить страницу отзывов клиентов о магазине, что позволит увеличить количество заказов</td>\n",
              "      <td>3</td>\n",
              "      <td>2</td>\n",
              "      <td>2</td>\n",
              "      <td>3</td>\n",
              "    </tr>\n",
              "    <tr>\n",
              "      <th>6</th>\n",
              "      <td>Показать на главной странице баннеры с актуальными акциями и распродажами, чтобы увеличить конверсию</td>\n",
              "      <td>5</td>\n",
              "      <td>3</td>\n",
              "      <td>8</td>\n",
              "      <td>3</td>\n",
              "    </tr>\n",
              "    <tr>\n",
              "      <th>7</th>\n",
              "      <td>Добавить форму подписки на все основные страницы, чтобы собрать базу клиентов для email-рассылок</td>\n",
              "      <td>10</td>\n",
              "      <td>7</td>\n",
              "      <td>8</td>\n",
              "      <td>5</td>\n",
              "    </tr>\n",
              "    <tr>\n",
              "      <th>8</th>\n",
              "      <td>Запустить акцию, дающую скидку на товар в день рождения</td>\n",
              "      <td>1</td>\n",
              "      <td>9</td>\n",
              "      <td>9</td>\n",
              "      <td>5</td>\n",
              "    </tr>\n",
              "  </tbody>\n",
              "</table>\n",
              "</div>\n",
              "      <button class=\"colab-df-convert\" onclick=\"convertToInteractive('df-8c2098d6-9ee7-4c57-92e0-a8896ee9630e')\"\n",
              "              title=\"Convert this dataframe to an interactive table.\"\n",
              "              style=\"display:none;\">\n",
              "        \n",
              "  <svg xmlns=\"http://www.w3.org/2000/svg\" height=\"24px\"viewBox=\"0 0 24 24\"\n",
              "       width=\"24px\">\n",
              "    <path d=\"M0 0h24v24H0V0z\" fill=\"none\"/>\n",
              "    <path d=\"M18.56 5.44l.94 2.06.94-2.06 2.06-.94-2.06-.94-.94-2.06-.94 2.06-2.06.94zm-11 1L8.5 8.5l.94-2.06 2.06-.94-2.06-.94L8.5 2.5l-.94 2.06-2.06.94zm10 10l.94 2.06.94-2.06 2.06-.94-2.06-.94-.94-2.06-.94 2.06-2.06.94z\"/><path d=\"M17.41 7.96l-1.37-1.37c-.4-.4-.92-.59-1.43-.59-.52 0-1.04.2-1.43.59L10.3 9.45l-7.72 7.72c-.78.78-.78 2.05 0 2.83L4 21.41c.39.39.9.59 1.41.59.51 0 1.02-.2 1.41-.59l7.78-7.78 2.81-2.81c.8-.78.8-2.07 0-2.86zM5.41 20L4 18.59l7.72-7.72 1.47 1.35L5.41 20z\"/>\n",
              "  </svg>\n",
              "      </button>\n",
              "      \n",
              "  <style>\n",
              "    .colab-df-container {\n",
              "      display:flex;\n",
              "      flex-wrap:wrap;\n",
              "      gap: 12px;\n",
              "    }\n",
              "\n",
              "    .colab-df-convert {\n",
              "      background-color: #E8F0FE;\n",
              "      border: none;\n",
              "      border-radius: 50%;\n",
              "      cursor: pointer;\n",
              "      display: none;\n",
              "      fill: #1967D2;\n",
              "      height: 32px;\n",
              "      padding: 0 0 0 0;\n",
              "      width: 32px;\n",
              "    }\n",
              "\n",
              "    .colab-df-convert:hover {\n",
              "      background-color: #E2EBFA;\n",
              "      box-shadow: 0px 1px 2px rgba(60, 64, 67, 0.3), 0px 1px 3px 1px rgba(60, 64, 67, 0.15);\n",
              "      fill: #174EA6;\n",
              "    }\n",
              "\n",
              "    [theme=dark] .colab-df-convert {\n",
              "      background-color: #3B4455;\n",
              "      fill: #D2E3FC;\n",
              "    }\n",
              "\n",
              "    [theme=dark] .colab-df-convert:hover {\n",
              "      background-color: #434B5C;\n",
              "      box-shadow: 0px 1px 3px 1px rgba(0, 0, 0, 0.15);\n",
              "      filter: drop-shadow(0px 1px 2px rgba(0, 0, 0, 0.3));\n",
              "      fill: #FFFFFF;\n",
              "    }\n",
              "  </style>\n",
              "\n",
              "      <script>\n",
              "        const buttonEl =\n",
              "          document.querySelector('#df-8c2098d6-9ee7-4c57-92e0-a8896ee9630e button.colab-df-convert');\n",
              "        buttonEl.style.display =\n",
              "          google.colab.kernel.accessAllowed ? 'block' : 'none';\n",
              "\n",
              "        async function convertToInteractive(key) {\n",
              "          const element = document.querySelector('#df-8c2098d6-9ee7-4c57-92e0-a8896ee9630e');\n",
              "          const dataTable =\n",
              "            await google.colab.kernel.invokeFunction('convertToInteractive',\n",
              "                                                     [key], {});\n",
              "          if (!dataTable) return;\n",
              "\n",
              "          const docLinkHtml = 'Like what you see? Visit the ' +\n",
              "            '<a target=\"_blank\" href=https://colab.research.google.com/notebooks/data_table.ipynb>data table notebook</a>'\n",
              "            + ' to learn more about interactive tables.';\n",
              "          element.innerHTML = '';\n",
              "          dataTable['output_type'] = 'display_data';\n",
              "          await google.colab.output.renderOutput(dataTable, element);\n",
              "          const docLink = document.createElement('div');\n",
              "          docLink.innerHTML = docLinkHtml;\n",
              "          element.appendChild(docLink);\n",
              "        }\n",
              "      </script>\n",
              "    </div>\n",
              "  </div>\n",
              "  "
            ]
          },
          "metadata": {},
          "execution_count": 12
        }
      ],
      "source": [
        "data.columns = data.columns.str.lower()\n",
        "data"
      ]
    },
    {
      "cell_type": "markdown",
      "metadata": {
        "id": "qhCVoPunFV0t"
      },
      "source": [
        "Для приоритезации гипотез воспользуемся фреймворками ICE и RICE: рассчитаем их для каждой гипотезы и поместим в соответствующий столбец датафрейма:"
      ]
    },
    {
      "cell_type": "code",
      "execution_count": null,
      "metadata": {
        "colab": {
          "base_uri": "https://localhost:8080/",
          "height": 332
        },
        "id": "kr6DV-pHFV0u",
        "outputId": "0085b100-9b93-4b31-af28-4ee6d4efddb8"
      },
      "outputs": [
        {
          "output_type": "execute_result",
          "data": {
            "text/plain": [
              "                                                                                                     hypothesis  \\\n",
              "0            Добавить два новых канала привлечения трафика, что позволит привлекать на 30% больше пользователей   \n",
              "1                                     Запустить собственную службу доставки, что сократит срок доставки заказов   \n",
              "2  Добавить блоки рекомендаций товаров на сайт интернет магазина, чтобы повысить конверсию и средний чек заказа   \n",
              "3           Изменить структура категорий, что увеличит конверсию, т.к. пользователи быстрее найдут нужный товар   \n",
              "4                              Изменить цвет фона главной страницы, чтобы увеличить вовлеченность пользователей   \n",
              "5                      Добавить страницу отзывов клиентов о магазине, что позволит увеличить количество заказов   \n",
              "6          Показать на главной странице баннеры с актуальными акциями и распродажами, чтобы увеличить конверсию   \n",
              "7              Добавить форму подписки на все основные страницы, чтобы собрать базу клиентов для email-рассылок   \n",
              "8                                                       Запустить акцию, дающую скидку на товар в день рождения   \n",
              "\n",
              "   reach  impact  confidence  efforts    ice   rice  \n",
              "0      3      10           8        6  13.33   40.0  \n",
              "1      2       5           4       10   2.00    4.0  \n",
              "2      8       3           7        3   7.00   56.0  \n",
              "3      8       3           3        8   1.12    9.0  \n",
              "4      3       1           1        1   1.00    3.0  \n",
              "5      3       2           2        3   1.33    4.0  \n",
              "6      5       3           8        3   8.00   40.0  \n",
              "7     10       7           8        5  11.20  112.0  \n",
              "8      1       9           9        5  16.20   16.2  "
            ],
            "text/html": [
              "\n",
              "  <div id=\"df-5bcf8735-5849-49c8-b40f-76ce5b620b3d\">\n",
              "    <div class=\"colab-df-container\">\n",
              "      <div>\n",
              "<style scoped>\n",
              "    .dataframe tbody tr th:only-of-type {\n",
              "        vertical-align: middle;\n",
              "    }\n",
              "\n",
              "    .dataframe tbody tr th {\n",
              "        vertical-align: top;\n",
              "    }\n",
              "\n",
              "    .dataframe thead th {\n",
              "        text-align: right;\n",
              "    }\n",
              "</style>\n",
              "<table border=\"1\" class=\"dataframe\">\n",
              "  <thead>\n",
              "    <tr style=\"text-align: right;\">\n",
              "      <th></th>\n",
              "      <th>hypothesis</th>\n",
              "      <th>reach</th>\n",
              "      <th>impact</th>\n",
              "      <th>confidence</th>\n",
              "      <th>efforts</th>\n",
              "      <th>ice</th>\n",
              "      <th>rice</th>\n",
              "    </tr>\n",
              "  </thead>\n",
              "  <tbody>\n",
              "    <tr>\n",
              "      <th>0</th>\n",
              "      <td>Добавить два новых канала привлечения трафика, что позволит привлекать на 30% больше пользователей</td>\n",
              "      <td>3</td>\n",
              "      <td>10</td>\n",
              "      <td>8</td>\n",
              "      <td>6</td>\n",
              "      <td>13.33</td>\n",
              "      <td>40.0</td>\n",
              "    </tr>\n",
              "    <tr>\n",
              "      <th>1</th>\n",
              "      <td>Запустить собственную службу доставки, что сократит срок доставки заказов</td>\n",
              "      <td>2</td>\n",
              "      <td>5</td>\n",
              "      <td>4</td>\n",
              "      <td>10</td>\n",
              "      <td>2.00</td>\n",
              "      <td>4.0</td>\n",
              "    </tr>\n",
              "    <tr>\n",
              "      <th>2</th>\n",
              "      <td>Добавить блоки рекомендаций товаров на сайт интернет магазина, чтобы повысить конверсию и средний чек заказа</td>\n",
              "      <td>8</td>\n",
              "      <td>3</td>\n",
              "      <td>7</td>\n",
              "      <td>3</td>\n",
              "      <td>7.00</td>\n",
              "      <td>56.0</td>\n",
              "    </tr>\n",
              "    <tr>\n",
              "      <th>3</th>\n",
              "      <td>Изменить структура категорий, что увеличит конверсию, т.к. пользователи быстрее найдут нужный товар</td>\n",
              "      <td>8</td>\n",
              "      <td>3</td>\n",
              "      <td>3</td>\n",
              "      <td>8</td>\n",
              "      <td>1.12</td>\n",
              "      <td>9.0</td>\n",
              "    </tr>\n",
              "    <tr>\n",
              "      <th>4</th>\n",
              "      <td>Изменить цвет фона главной страницы, чтобы увеличить вовлеченность пользователей</td>\n",
              "      <td>3</td>\n",
              "      <td>1</td>\n",
              "      <td>1</td>\n",
              "      <td>1</td>\n",
              "      <td>1.00</td>\n",
              "      <td>3.0</td>\n",
              "    </tr>\n",
              "    <tr>\n",
              "      <th>5</th>\n",
              "      <td>Добавить страницу отзывов клиентов о магазине, что позволит увеличить количество заказов</td>\n",
              "      <td>3</td>\n",
              "      <td>2</td>\n",
              "      <td>2</td>\n",
              "      <td>3</td>\n",
              "      <td>1.33</td>\n",
              "      <td>4.0</td>\n",
              "    </tr>\n",
              "    <tr>\n",
              "      <th>6</th>\n",
              "      <td>Показать на главной странице баннеры с актуальными акциями и распродажами, чтобы увеличить конверсию</td>\n",
              "      <td>5</td>\n",
              "      <td>3</td>\n",
              "      <td>8</td>\n",
              "      <td>3</td>\n",
              "      <td>8.00</td>\n",
              "      <td>40.0</td>\n",
              "    </tr>\n",
              "    <tr>\n",
              "      <th>7</th>\n",
              "      <td>Добавить форму подписки на все основные страницы, чтобы собрать базу клиентов для email-рассылок</td>\n",
              "      <td>10</td>\n",
              "      <td>7</td>\n",
              "      <td>8</td>\n",
              "      <td>5</td>\n",
              "      <td>11.20</td>\n",
              "      <td>112.0</td>\n",
              "    </tr>\n",
              "    <tr>\n",
              "      <th>8</th>\n",
              "      <td>Запустить акцию, дающую скидку на товар в день рождения</td>\n",
              "      <td>1</td>\n",
              "      <td>9</td>\n",
              "      <td>9</td>\n",
              "      <td>5</td>\n",
              "      <td>16.20</td>\n",
              "      <td>16.2</td>\n",
              "    </tr>\n",
              "  </tbody>\n",
              "</table>\n",
              "</div>\n",
              "      <button class=\"colab-df-convert\" onclick=\"convertToInteractive('df-5bcf8735-5849-49c8-b40f-76ce5b620b3d')\"\n",
              "              title=\"Convert this dataframe to an interactive table.\"\n",
              "              style=\"display:none;\">\n",
              "        \n",
              "  <svg xmlns=\"http://www.w3.org/2000/svg\" height=\"24px\"viewBox=\"0 0 24 24\"\n",
              "       width=\"24px\">\n",
              "    <path d=\"M0 0h24v24H0V0z\" fill=\"none\"/>\n",
              "    <path d=\"M18.56 5.44l.94 2.06.94-2.06 2.06-.94-2.06-.94-.94-2.06-.94 2.06-2.06.94zm-11 1L8.5 8.5l.94-2.06 2.06-.94-2.06-.94L8.5 2.5l-.94 2.06-2.06.94zm10 10l.94 2.06.94-2.06 2.06-.94-2.06-.94-.94-2.06-.94 2.06-2.06.94z\"/><path d=\"M17.41 7.96l-1.37-1.37c-.4-.4-.92-.59-1.43-.59-.52 0-1.04.2-1.43.59L10.3 9.45l-7.72 7.72c-.78.78-.78 2.05 0 2.83L4 21.41c.39.39.9.59 1.41.59.51 0 1.02-.2 1.41-.59l7.78-7.78 2.81-2.81c.8-.78.8-2.07 0-2.86zM5.41 20L4 18.59l7.72-7.72 1.47 1.35L5.41 20z\"/>\n",
              "  </svg>\n",
              "      </button>\n",
              "      \n",
              "  <style>\n",
              "    .colab-df-container {\n",
              "      display:flex;\n",
              "      flex-wrap:wrap;\n",
              "      gap: 12px;\n",
              "    }\n",
              "\n",
              "    .colab-df-convert {\n",
              "      background-color: #E8F0FE;\n",
              "      border: none;\n",
              "      border-radius: 50%;\n",
              "      cursor: pointer;\n",
              "      display: none;\n",
              "      fill: #1967D2;\n",
              "      height: 32px;\n",
              "      padding: 0 0 0 0;\n",
              "      width: 32px;\n",
              "    }\n",
              "\n",
              "    .colab-df-convert:hover {\n",
              "      background-color: #E2EBFA;\n",
              "      box-shadow: 0px 1px 2px rgba(60, 64, 67, 0.3), 0px 1px 3px 1px rgba(60, 64, 67, 0.15);\n",
              "      fill: #174EA6;\n",
              "    }\n",
              "\n",
              "    [theme=dark] .colab-df-convert {\n",
              "      background-color: #3B4455;\n",
              "      fill: #D2E3FC;\n",
              "    }\n",
              "\n",
              "    [theme=dark] .colab-df-convert:hover {\n",
              "      background-color: #434B5C;\n",
              "      box-shadow: 0px 1px 3px 1px rgba(0, 0, 0, 0.15);\n",
              "      filter: drop-shadow(0px 1px 2px rgba(0, 0, 0, 0.3));\n",
              "      fill: #FFFFFF;\n",
              "    }\n",
              "  </style>\n",
              "\n",
              "      <script>\n",
              "        const buttonEl =\n",
              "          document.querySelector('#df-5bcf8735-5849-49c8-b40f-76ce5b620b3d button.colab-df-convert');\n",
              "        buttonEl.style.display =\n",
              "          google.colab.kernel.accessAllowed ? 'block' : 'none';\n",
              "\n",
              "        async function convertToInteractive(key) {\n",
              "          const element = document.querySelector('#df-5bcf8735-5849-49c8-b40f-76ce5b620b3d');\n",
              "          const dataTable =\n",
              "            await google.colab.kernel.invokeFunction('convertToInteractive',\n",
              "                                                     [key], {});\n",
              "          if (!dataTable) return;\n",
              "\n",
              "          const docLinkHtml = 'Like what you see? Visit the ' +\n",
              "            '<a target=\"_blank\" href=https://colab.research.google.com/notebooks/data_table.ipynb>data table notebook</a>'\n",
              "            + ' to learn more about interactive tables.';\n",
              "          element.innerHTML = '';\n",
              "          dataTable['output_type'] = 'display_data';\n",
              "          await google.colab.output.renderOutput(dataTable, element);\n",
              "          const docLink = document.createElement('div');\n",
              "          docLink.innerHTML = docLinkHtml;\n",
              "          element.appendChild(docLink);\n",
              "        }\n",
              "      </script>\n",
              "    </div>\n",
              "  </div>\n",
              "  "
            ]
          },
          "metadata": {},
          "execution_count": 13
        }
      ],
      "source": [
        "#рассчет фреймворка ICE с округлением до десятых долей\n",
        "data['ice'] = round(data['impact'] * data['confidence'] / data['efforts'],2)\n",
        "#рассчет фреймворка RICE с округлением до десятых долей\n",
        "data['rice'] = round(data['reach'] * data['impact'] * data['confidence'] / data['efforts'], 2)\n",
        "data"
      ]
    },
    {
      "cell_type": "markdown",
      "metadata": {
        "id": "VeKnRJFBFV0v"
      },
      "source": [
        "Проанализируем приоритеты гипотез, отсортировав их по убыванию  значения фреймворка ICE методом sort_values():"
      ]
    },
    {
      "cell_type": "code",
      "execution_count": null,
      "metadata": {
        "colab": {
          "base_uri": "https://localhost:8080/",
          "height": 332
        },
        "id": "4FJtqtJ6FV0v",
        "outputId": "827a3ce1-b793-4b4e-c929-e3fe0a7ba7a8"
      },
      "outputs": [
        {
          "output_type": "execute_result",
          "data": {
            "text/plain": [
              "                                                                                                     hypothesis  \\\n",
              "8                                                       Запустить акцию, дающую скидку на товар в день рождения   \n",
              "0            Добавить два новых канала привлечения трафика, что позволит привлекать на 30% больше пользователей   \n",
              "7              Добавить форму подписки на все основные страницы, чтобы собрать базу клиентов для email-рассылок   \n",
              "6          Показать на главной странице баннеры с актуальными акциями и распродажами, чтобы увеличить конверсию   \n",
              "2  Добавить блоки рекомендаций товаров на сайт интернет магазина, чтобы повысить конверсию и средний чек заказа   \n",
              "1                                     Запустить собственную службу доставки, что сократит срок доставки заказов   \n",
              "5                      Добавить страницу отзывов клиентов о магазине, что позволит увеличить количество заказов   \n",
              "3           Изменить структура категорий, что увеличит конверсию, т.к. пользователи быстрее найдут нужный товар   \n",
              "4                              Изменить цвет фона главной страницы, чтобы увеличить вовлеченность пользователей   \n",
              "\n",
              "   reach  impact  confidence  efforts    ice   rice  \n",
              "8      1       9           9        5  16.20   16.2  \n",
              "0      3      10           8        6  13.33   40.0  \n",
              "7     10       7           8        5  11.20  112.0  \n",
              "6      5       3           8        3   8.00   40.0  \n",
              "2      8       3           7        3   7.00   56.0  \n",
              "1      2       5           4       10   2.00    4.0  \n",
              "5      3       2           2        3   1.33    4.0  \n",
              "3      8       3           3        8   1.12    9.0  \n",
              "4      3       1           1        1   1.00    3.0  "
            ],
            "text/html": [
              "\n",
              "  <div id=\"df-5df2df6a-e2a6-4d76-9d73-f21b22cce5cb\">\n",
              "    <div class=\"colab-df-container\">\n",
              "      <div>\n",
              "<style scoped>\n",
              "    .dataframe tbody tr th:only-of-type {\n",
              "        vertical-align: middle;\n",
              "    }\n",
              "\n",
              "    .dataframe tbody tr th {\n",
              "        vertical-align: top;\n",
              "    }\n",
              "\n",
              "    .dataframe thead th {\n",
              "        text-align: right;\n",
              "    }\n",
              "</style>\n",
              "<table border=\"1\" class=\"dataframe\">\n",
              "  <thead>\n",
              "    <tr style=\"text-align: right;\">\n",
              "      <th></th>\n",
              "      <th>hypothesis</th>\n",
              "      <th>reach</th>\n",
              "      <th>impact</th>\n",
              "      <th>confidence</th>\n",
              "      <th>efforts</th>\n",
              "      <th>ice</th>\n",
              "      <th>rice</th>\n",
              "    </tr>\n",
              "  </thead>\n",
              "  <tbody>\n",
              "    <tr>\n",
              "      <th>8</th>\n",
              "      <td>Запустить акцию, дающую скидку на товар в день рождения</td>\n",
              "      <td>1</td>\n",
              "      <td>9</td>\n",
              "      <td>9</td>\n",
              "      <td>5</td>\n",
              "      <td>16.20</td>\n",
              "      <td>16.2</td>\n",
              "    </tr>\n",
              "    <tr>\n",
              "      <th>0</th>\n",
              "      <td>Добавить два новых канала привлечения трафика, что позволит привлекать на 30% больше пользователей</td>\n",
              "      <td>3</td>\n",
              "      <td>10</td>\n",
              "      <td>8</td>\n",
              "      <td>6</td>\n",
              "      <td>13.33</td>\n",
              "      <td>40.0</td>\n",
              "    </tr>\n",
              "    <tr>\n",
              "      <th>7</th>\n",
              "      <td>Добавить форму подписки на все основные страницы, чтобы собрать базу клиентов для email-рассылок</td>\n",
              "      <td>10</td>\n",
              "      <td>7</td>\n",
              "      <td>8</td>\n",
              "      <td>5</td>\n",
              "      <td>11.20</td>\n",
              "      <td>112.0</td>\n",
              "    </tr>\n",
              "    <tr>\n",
              "      <th>6</th>\n",
              "      <td>Показать на главной странице баннеры с актуальными акциями и распродажами, чтобы увеличить конверсию</td>\n",
              "      <td>5</td>\n",
              "      <td>3</td>\n",
              "      <td>8</td>\n",
              "      <td>3</td>\n",
              "      <td>8.00</td>\n",
              "      <td>40.0</td>\n",
              "    </tr>\n",
              "    <tr>\n",
              "      <th>2</th>\n",
              "      <td>Добавить блоки рекомендаций товаров на сайт интернет магазина, чтобы повысить конверсию и средний чек заказа</td>\n",
              "      <td>8</td>\n",
              "      <td>3</td>\n",
              "      <td>7</td>\n",
              "      <td>3</td>\n",
              "      <td>7.00</td>\n",
              "      <td>56.0</td>\n",
              "    </tr>\n",
              "    <tr>\n",
              "      <th>1</th>\n",
              "      <td>Запустить собственную службу доставки, что сократит срок доставки заказов</td>\n",
              "      <td>2</td>\n",
              "      <td>5</td>\n",
              "      <td>4</td>\n",
              "      <td>10</td>\n",
              "      <td>2.00</td>\n",
              "      <td>4.0</td>\n",
              "    </tr>\n",
              "    <tr>\n",
              "      <th>5</th>\n",
              "      <td>Добавить страницу отзывов клиентов о магазине, что позволит увеличить количество заказов</td>\n",
              "      <td>3</td>\n",
              "      <td>2</td>\n",
              "      <td>2</td>\n",
              "      <td>3</td>\n",
              "      <td>1.33</td>\n",
              "      <td>4.0</td>\n",
              "    </tr>\n",
              "    <tr>\n",
              "      <th>3</th>\n",
              "      <td>Изменить структура категорий, что увеличит конверсию, т.к. пользователи быстрее найдут нужный товар</td>\n",
              "      <td>8</td>\n",
              "      <td>3</td>\n",
              "      <td>3</td>\n",
              "      <td>8</td>\n",
              "      <td>1.12</td>\n",
              "      <td>9.0</td>\n",
              "    </tr>\n",
              "    <tr>\n",
              "      <th>4</th>\n",
              "      <td>Изменить цвет фона главной страницы, чтобы увеличить вовлеченность пользователей</td>\n",
              "      <td>3</td>\n",
              "      <td>1</td>\n",
              "      <td>1</td>\n",
              "      <td>1</td>\n",
              "      <td>1.00</td>\n",
              "      <td>3.0</td>\n",
              "    </tr>\n",
              "  </tbody>\n",
              "</table>\n",
              "</div>\n",
              "      <button class=\"colab-df-convert\" onclick=\"convertToInteractive('df-5df2df6a-e2a6-4d76-9d73-f21b22cce5cb')\"\n",
              "              title=\"Convert this dataframe to an interactive table.\"\n",
              "              style=\"display:none;\">\n",
              "        \n",
              "  <svg xmlns=\"http://www.w3.org/2000/svg\" height=\"24px\"viewBox=\"0 0 24 24\"\n",
              "       width=\"24px\">\n",
              "    <path d=\"M0 0h24v24H0V0z\" fill=\"none\"/>\n",
              "    <path d=\"M18.56 5.44l.94 2.06.94-2.06 2.06-.94-2.06-.94-.94-2.06-.94 2.06-2.06.94zm-11 1L8.5 8.5l.94-2.06 2.06-.94-2.06-.94L8.5 2.5l-.94 2.06-2.06.94zm10 10l.94 2.06.94-2.06 2.06-.94-2.06-.94-.94-2.06-.94 2.06-2.06.94z\"/><path d=\"M17.41 7.96l-1.37-1.37c-.4-.4-.92-.59-1.43-.59-.52 0-1.04.2-1.43.59L10.3 9.45l-7.72 7.72c-.78.78-.78 2.05 0 2.83L4 21.41c.39.39.9.59 1.41.59.51 0 1.02-.2 1.41-.59l7.78-7.78 2.81-2.81c.8-.78.8-2.07 0-2.86zM5.41 20L4 18.59l7.72-7.72 1.47 1.35L5.41 20z\"/>\n",
              "  </svg>\n",
              "      </button>\n",
              "      \n",
              "  <style>\n",
              "    .colab-df-container {\n",
              "      display:flex;\n",
              "      flex-wrap:wrap;\n",
              "      gap: 12px;\n",
              "    }\n",
              "\n",
              "    .colab-df-convert {\n",
              "      background-color: #E8F0FE;\n",
              "      border: none;\n",
              "      border-radius: 50%;\n",
              "      cursor: pointer;\n",
              "      display: none;\n",
              "      fill: #1967D2;\n",
              "      height: 32px;\n",
              "      padding: 0 0 0 0;\n",
              "      width: 32px;\n",
              "    }\n",
              "\n",
              "    .colab-df-convert:hover {\n",
              "      background-color: #E2EBFA;\n",
              "      box-shadow: 0px 1px 2px rgba(60, 64, 67, 0.3), 0px 1px 3px 1px rgba(60, 64, 67, 0.15);\n",
              "      fill: #174EA6;\n",
              "    }\n",
              "\n",
              "    [theme=dark] .colab-df-convert {\n",
              "      background-color: #3B4455;\n",
              "      fill: #D2E3FC;\n",
              "    }\n",
              "\n",
              "    [theme=dark] .colab-df-convert:hover {\n",
              "      background-color: #434B5C;\n",
              "      box-shadow: 0px 1px 3px 1px rgba(0, 0, 0, 0.15);\n",
              "      filter: drop-shadow(0px 1px 2px rgba(0, 0, 0, 0.3));\n",
              "      fill: #FFFFFF;\n",
              "    }\n",
              "  </style>\n",
              "\n",
              "      <script>\n",
              "        const buttonEl =\n",
              "          document.querySelector('#df-5df2df6a-e2a6-4d76-9d73-f21b22cce5cb button.colab-df-convert');\n",
              "        buttonEl.style.display =\n",
              "          google.colab.kernel.accessAllowed ? 'block' : 'none';\n",
              "\n",
              "        async function convertToInteractive(key) {\n",
              "          const element = document.querySelector('#df-5df2df6a-e2a6-4d76-9d73-f21b22cce5cb');\n",
              "          const dataTable =\n",
              "            await google.colab.kernel.invokeFunction('convertToInteractive',\n",
              "                                                     [key], {});\n",
              "          if (!dataTable) return;\n",
              "\n",
              "          const docLinkHtml = 'Like what you see? Visit the ' +\n",
              "            '<a target=\"_blank\" href=https://colab.research.google.com/notebooks/data_table.ipynb>data table notebook</a>'\n",
              "            + ' to learn more about interactive tables.';\n",
              "          element.innerHTML = '';\n",
              "          dataTable['output_type'] = 'display_data';\n",
              "          await google.colab.output.renderOutput(dataTable, element);\n",
              "          const docLink = document.createElement('div');\n",
              "          docLink.innerHTML = docLinkHtml;\n",
              "          element.appendChild(docLink);\n",
              "        }\n",
              "      </script>\n",
              "    </div>\n",
              "  </div>\n",
              "  "
            ]
          },
          "metadata": {},
          "execution_count": 14
        }
      ],
      "source": [
        "data.sort_values(by = 'ice', ascending = False)"
      ]
    },
    {
      "cell_type": "markdown",
      "metadata": {
        "id": "S9rld5f_FV0w"
      },
      "source": [
        "Без  учета параметра reach (скольких пользователей затронет изменение, которое мы хотим внести) наибольший приоритет имеют гипотезы № 8,0 и 7. Наименьший приоритет  - гипотеза №4."
      ]
    },
    {
      "cell_type": "markdown",
      "metadata": {
        "id": "sJm5wbydFV0w"
      },
      "source": [
        "Теперь проанализируем приоритеты гипотез, отсортировав их по убыванию  значения фреймворка RICE методом sort_values():"
      ]
    },
    {
      "cell_type": "code",
      "execution_count": null,
      "metadata": {
        "colab": {
          "base_uri": "https://localhost:8080/",
          "height": 332
        },
        "id": "umq3e83TFV0w",
        "outputId": "b86c85f9-72c4-4016-a87f-194afb0c1e34"
      },
      "outputs": [
        {
          "output_type": "execute_result",
          "data": {
            "text/plain": [
              "                                                                                                     hypothesis  \\\n",
              "7              Добавить форму подписки на все основные страницы, чтобы собрать базу клиентов для email-рассылок   \n",
              "2  Добавить блоки рекомендаций товаров на сайт интернет магазина, чтобы повысить конверсию и средний чек заказа   \n",
              "0            Добавить два новых канала привлечения трафика, что позволит привлекать на 30% больше пользователей   \n",
              "6          Показать на главной странице баннеры с актуальными акциями и распродажами, чтобы увеличить конверсию   \n",
              "8                                                       Запустить акцию, дающую скидку на товар в день рождения   \n",
              "3           Изменить структура категорий, что увеличит конверсию, т.к. пользователи быстрее найдут нужный товар   \n",
              "1                                     Запустить собственную службу доставки, что сократит срок доставки заказов   \n",
              "5                      Добавить страницу отзывов клиентов о магазине, что позволит увеличить количество заказов   \n",
              "4                              Изменить цвет фона главной страницы, чтобы увеличить вовлеченность пользователей   \n",
              "\n",
              "   reach  impact  confidence  efforts    ice   rice  \n",
              "7     10       7           8        5  11.20  112.0  \n",
              "2      8       3           7        3   7.00   56.0  \n",
              "0      3      10           8        6  13.33   40.0  \n",
              "6      5       3           8        3   8.00   40.0  \n",
              "8      1       9           9        5  16.20   16.2  \n",
              "3      8       3           3        8   1.12    9.0  \n",
              "1      2       5           4       10   2.00    4.0  \n",
              "5      3       2           2        3   1.33    4.0  \n",
              "4      3       1           1        1   1.00    3.0  "
            ],
            "text/html": [
              "\n",
              "  <div id=\"df-7d86c3af-0f4a-4476-a283-56d0198c40d4\">\n",
              "    <div class=\"colab-df-container\">\n",
              "      <div>\n",
              "<style scoped>\n",
              "    .dataframe tbody tr th:only-of-type {\n",
              "        vertical-align: middle;\n",
              "    }\n",
              "\n",
              "    .dataframe tbody tr th {\n",
              "        vertical-align: top;\n",
              "    }\n",
              "\n",
              "    .dataframe thead th {\n",
              "        text-align: right;\n",
              "    }\n",
              "</style>\n",
              "<table border=\"1\" class=\"dataframe\">\n",
              "  <thead>\n",
              "    <tr style=\"text-align: right;\">\n",
              "      <th></th>\n",
              "      <th>hypothesis</th>\n",
              "      <th>reach</th>\n",
              "      <th>impact</th>\n",
              "      <th>confidence</th>\n",
              "      <th>efforts</th>\n",
              "      <th>ice</th>\n",
              "      <th>rice</th>\n",
              "    </tr>\n",
              "  </thead>\n",
              "  <tbody>\n",
              "    <tr>\n",
              "      <th>7</th>\n",
              "      <td>Добавить форму подписки на все основные страницы, чтобы собрать базу клиентов для email-рассылок</td>\n",
              "      <td>10</td>\n",
              "      <td>7</td>\n",
              "      <td>8</td>\n",
              "      <td>5</td>\n",
              "      <td>11.20</td>\n",
              "      <td>112.0</td>\n",
              "    </tr>\n",
              "    <tr>\n",
              "      <th>2</th>\n",
              "      <td>Добавить блоки рекомендаций товаров на сайт интернет магазина, чтобы повысить конверсию и средний чек заказа</td>\n",
              "      <td>8</td>\n",
              "      <td>3</td>\n",
              "      <td>7</td>\n",
              "      <td>3</td>\n",
              "      <td>7.00</td>\n",
              "      <td>56.0</td>\n",
              "    </tr>\n",
              "    <tr>\n",
              "      <th>0</th>\n",
              "      <td>Добавить два новых канала привлечения трафика, что позволит привлекать на 30% больше пользователей</td>\n",
              "      <td>3</td>\n",
              "      <td>10</td>\n",
              "      <td>8</td>\n",
              "      <td>6</td>\n",
              "      <td>13.33</td>\n",
              "      <td>40.0</td>\n",
              "    </tr>\n",
              "    <tr>\n",
              "      <th>6</th>\n",
              "      <td>Показать на главной странице баннеры с актуальными акциями и распродажами, чтобы увеличить конверсию</td>\n",
              "      <td>5</td>\n",
              "      <td>3</td>\n",
              "      <td>8</td>\n",
              "      <td>3</td>\n",
              "      <td>8.00</td>\n",
              "      <td>40.0</td>\n",
              "    </tr>\n",
              "    <tr>\n",
              "      <th>8</th>\n",
              "      <td>Запустить акцию, дающую скидку на товар в день рождения</td>\n",
              "      <td>1</td>\n",
              "      <td>9</td>\n",
              "      <td>9</td>\n",
              "      <td>5</td>\n",
              "      <td>16.20</td>\n",
              "      <td>16.2</td>\n",
              "    </tr>\n",
              "    <tr>\n",
              "      <th>3</th>\n",
              "      <td>Изменить структура категорий, что увеличит конверсию, т.к. пользователи быстрее найдут нужный товар</td>\n",
              "      <td>8</td>\n",
              "      <td>3</td>\n",
              "      <td>3</td>\n",
              "      <td>8</td>\n",
              "      <td>1.12</td>\n",
              "      <td>9.0</td>\n",
              "    </tr>\n",
              "    <tr>\n",
              "      <th>1</th>\n",
              "      <td>Запустить собственную службу доставки, что сократит срок доставки заказов</td>\n",
              "      <td>2</td>\n",
              "      <td>5</td>\n",
              "      <td>4</td>\n",
              "      <td>10</td>\n",
              "      <td>2.00</td>\n",
              "      <td>4.0</td>\n",
              "    </tr>\n",
              "    <tr>\n",
              "      <th>5</th>\n",
              "      <td>Добавить страницу отзывов клиентов о магазине, что позволит увеличить количество заказов</td>\n",
              "      <td>3</td>\n",
              "      <td>2</td>\n",
              "      <td>2</td>\n",
              "      <td>3</td>\n",
              "      <td>1.33</td>\n",
              "      <td>4.0</td>\n",
              "    </tr>\n",
              "    <tr>\n",
              "      <th>4</th>\n",
              "      <td>Изменить цвет фона главной страницы, чтобы увеличить вовлеченность пользователей</td>\n",
              "      <td>3</td>\n",
              "      <td>1</td>\n",
              "      <td>1</td>\n",
              "      <td>1</td>\n",
              "      <td>1.00</td>\n",
              "      <td>3.0</td>\n",
              "    </tr>\n",
              "  </tbody>\n",
              "</table>\n",
              "</div>\n",
              "      <button class=\"colab-df-convert\" onclick=\"convertToInteractive('df-7d86c3af-0f4a-4476-a283-56d0198c40d4')\"\n",
              "              title=\"Convert this dataframe to an interactive table.\"\n",
              "              style=\"display:none;\">\n",
              "        \n",
              "  <svg xmlns=\"http://www.w3.org/2000/svg\" height=\"24px\"viewBox=\"0 0 24 24\"\n",
              "       width=\"24px\">\n",
              "    <path d=\"M0 0h24v24H0V0z\" fill=\"none\"/>\n",
              "    <path d=\"M18.56 5.44l.94 2.06.94-2.06 2.06-.94-2.06-.94-.94-2.06-.94 2.06-2.06.94zm-11 1L8.5 8.5l.94-2.06 2.06-.94-2.06-.94L8.5 2.5l-.94 2.06-2.06.94zm10 10l.94 2.06.94-2.06 2.06-.94-2.06-.94-.94-2.06-.94 2.06-2.06.94z\"/><path d=\"M17.41 7.96l-1.37-1.37c-.4-.4-.92-.59-1.43-.59-.52 0-1.04.2-1.43.59L10.3 9.45l-7.72 7.72c-.78.78-.78 2.05 0 2.83L4 21.41c.39.39.9.59 1.41.59.51 0 1.02-.2 1.41-.59l7.78-7.78 2.81-2.81c.8-.78.8-2.07 0-2.86zM5.41 20L4 18.59l7.72-7.72 1.47 1.35L5.41 20z\"/>\n",
              "  </svg>\n",
              "      </button>\n",
              "      \n",
              "  <style>\n",
              "    .colab-df-container {\n",
              "      display:flex;\n",
              "      flex-wrap:wrap;\n",
              "      gap: 12px;\n",
              "    }\n",
              "\n",
              "    .colab-df-convert {\n",
              "      background-color: #E8F0FE;\n",
              "      border: none;\n",
              "      border-radius: 50%;\n",
              "      cursor: pointer;\n",
              "      display: none;\n",
              "      fill: #1967D2;\n",
              "      height: 32px;\n",
              "      padding: 0 0 0 0;\n",
              "      width: 32px;\n",
              "    }\n",
              "\n",
              "    .colab-df-convert:hover {\n",
              "      background-color: #E2EBFA;\n",
              "      box-shadow: 0px 1px 2px rgba(60, 64, 67, 0.3), 0px 1px 3px 1px rgba(60, 64, 67, 0.15);\n",
              "      fill: #174EA6;\n",
              "    }\n",
              "\n",
              "    [theme=dark] .colab-df-convert {\n",
              "      background-color: #3B4455;\n",
              "      fill: #D2E3FC;\n",
              "    }\n",
              "\n",
              "    [theme=dark] .colab-df-convert:hover {\n",
              "      background-color: #434B5C;\n",
              "      box-shadow: 0px 1px 3px 1px rgba(0, 0, 0, 0.15);\n",
              "      filter: drop-shadow(0px 1px 2px rgba(0, 0, 0, 0.3));\n",
              "      fill: #FFFFFF;\n",
              "    }\n",
              "  </style>\n",
              "\n",
              "      <script>\n",
              "        const buttonEl =\n",
              "          document.querySelector('#df-7d86c3af-0f4a-4476-a283-56d0198c40d4 button.colab-df-convert');\n",
              "        buttonEl.style.display =\n",
              "          google.colab.kernel.accessAllowed ? 'block' : 'none';\n",
              "\n",
              "        async function convertToInteractive(key) {\n",
              "          const element = document.querySelector('#df-7d86c3af-0f4a-4476-a283-56d0198c40d4');\n",
              "          const dataTable =\n",
              "            await google.colab.kernel.invokeFunction('convertToInteractive',\n",
              "                                                     [key], {});\n",
              "          if (!dataTable) return;\n",
              "\n",
              "          const docLinkHtml = 'Like what you see? Visit the ' +\n",
              "            '<a target=\"_blank\" href=https://colab.research.google.com/notebooks/data_table.ipynb>data table notebook</a>'\n",
              "            + ' to learn more about interactive tables.';\n",
              "          element.innerHTML = '';\n",
              "          dataTable['output_type'] = 'display_data';\n",
              "          await google.colab.output.renderOutput(dataTable, element);\n",
              "          const docLink = document.createElement('div');\n",
              "          docLink.innerHTML = docLinkHtml;\n",
              "          element.appendChild(docLink);\n",
              "        }\n",
              "      </script>\n",
              "    </div>\n",
              "  </div>\n",
              "  "
            ]
          },
          "metadata": {},
          "execution_count": 15
        }
      ],
      "source": [
        "data.sort_values(by = 'rice', ascending = False)"
      ]
    },
    {
      "cell_type": "markdown",
      "metadata": {
        "id": "7r0TCSTfFV0x"
      },
      "source": [
        "С учетом параметра reach (скольких пользователей затронет изменение, которое мы хотим внести) наибольший приоритет имеют гипотезы № 7,2,0 и 6, а самый низкий приоритет  - снова гипотеза №4.  Самой важной гипотезой с учетом охвата аудитории оказалась гипотеза №7. Параметр охвата аудитории является одним из  самых важных, т.к. чем больше аудитория, на которую может повлять гипотеза, тем больше вероятность увеличения выручки интернет-магазина, что является основной целью данного исследования,  поэтому на проверке гипотезы №7 стоит остановиться в первую очередь."
      ]
    },
    {
      "cell_type": "markdown",
      "metadata": {
        "id": "NAwAJe-sFV0y"
      },
      "source": [
        "### Анализ А/В-теста\n",
        "Мы провели A/B-тест и получили результаты, которые описаны в файлах /datasets/orders.csv и /datasets/visitors.csv\n",
        "Для начала откроем эти файлы и изучим данные:"
      ]
    },
    {
      "cell_type": "code",
      "execution_count": null,
      "metadata": {
        "colab": {
          "base_uri": "https://localhost:8080/",
          "height": 414
        },
        "id": "vhreJHC8FV0z",
        "outputId": "2066ae7e-63cc-489d-a941-354101558886"
      },
      "outputs": [
        {
          "output_type": "stream",
          "name": "stdout",
          "text": [
            "<class 'pandas.core.frame.DataFrame'>\n",
            "RangeIndex: 1197 entries, 0 to 1196\n",
            "Data columns (total 5 columns):\n",
            " #   Column         Non-Null Count  Dtype \n",
            "---  ------         --------------  ----- \n",
            " 0   transactionId  1197 non-null   int64 \n",
            " 1   visitorId      1197 non-null   int64 \n",
            " 2   date           1197 non-null   object\n",
            " 3   revenue        1197 non-null   int64 \n",
            " 4   group          1197 non-null   object\n",
            "dtypes: int64(3), object(2)\n",
            "memory usage: 46.9+ KB\n"
          ]
        },
        {
          "output_type": "execute_result",
          "data": {
            "text/plain": [
              "   transactionId   visitorId        date  revenue group\n",
              "0     3667963787  3312258926  2019-08-15     1650     B\n",
              "1     2804400009  3642806036  2019-08-15      730     B\n",
              "2     2961555356  4069496402  2019-08-15      400     A\n",
              "3     3797467345  1196621759  2019-08-15     9759     B\n",
              "4     2282983706  2322279887  2019-08-15     2308     B"
            ],
            "text/html": [
              "\n",
              "  <div id=\"df-af8563f3-70fb-4dff-8f93-82414c37e2f3\">\n",
              "    <div class=\"colab-df-container\">\n",
              "      <div>\n",
              "<style scoped>\n",
              "    .dataframe tbody tr th:only-of-type {\n",
              "        vertical-align: middle;\n",
              "    }\n",
              "\n",
              "    .dataframe tbody tr th {\n",
              "        vertical-align: top;\n",
              "    }\n",
              "\n",
              "    .dataframe thead th {\n",
              "        text-align: right;\n",
              "    }\n",
              "</style>\n",
              "<table border=\"1\" class=\"dataframe\">\n",
              "  <thead>\n",
              "    <tr style=\"text-align: right;\">\n",
              "      <th></th>\n",
              "      <th>transactionId</th>\n",
              "      <th>visitorId</th>\n",
              "      <th>date</th>\n",
              "      <th>revenue</th>\n",
              "      <th>group</th>\n",
              "    </tr>\n",
              "  </thead>\n",
              "  <tbody>\n",
              "    <tr>\n",
              "      <th>0</th>\n",
              "      <td>3667963787</td>\n",
              "      <td>3312258926</td>\n",
              "      <td>2019-08-15</td>\n",
              "      <td>1650</td>\n",
              "      <td>B</td>\n",
              "    </tr>\n",
              "    <tr>\n",
              "      <th>1</th>\n",
              "      <td>2804400009</td>\n",
              "      <td>3642806036</td>\n",
              "      <td>2019-08-15</td>\n",
              "      <td>730</td>\n",
              "      <td>B</td>\n",
              "    </tr>\n",
              "    <tr>\n",
              "      <th>2</th>\n",
              "      <td>2961555356</td>\n",
              "      <td>4069496402</td>\n",
              "      <td>2019-08-15</td>\n",
              "      <td>400</td>\n",
              "      <td>A</td>\n",
              "    </tr>\n",
              "    <tr>\n",
              "      <th>3</th>\n",
              "      <td>3797467345</td>\n",
              "      <td>1196621759</td>\n",
              "      <td>2019-08-15</td>\n",
              "      <td>9759</td>\n",
              "      <td>B</td>\n",
              "    </tr>\n",
              "    <tr>\n",
              "      <th>4</th>\n",
              "      <td>2282983706</td>\n",
              "      <td>2322279887</td>\n",
              "      <td>2019-08-15</td>\n",
              "      <td>2308</td>\n",
              "      <td>B</td>\n",
              "    </tr>\n",
              "  </tbody>\n",
              "</table>\n",
              "</div>\n",
              "      <button class=\"colab-df-convert\" onclick=\"convertToInteractive('df-af8563f3-70fb-4dff-8f93-82414c37e2f3')\"\n",
              "              title=\"Convert this dataframe to an interactive table.\"\n",
              "              style=\"display:none;\">\n",
              "        \n",
              "  <svg xmlns=\"http://www.w3.org/2000/svg\" height=\"24px\"viewBox=\"0 0 24 24\"\n",
              "       width=\"24px\">\n",
              "    <path d=\"M0 0h24v24H0V0z\" fill=\"none\"/>\n",
              "    <path d=\"M18.56 5.44l.94 2.06.94-2.06 2.06-.94-2.06-.94-.94-2.06-.94 2.06-2.06.94zm-11 1L8.5 8.5l.94-2.06 2.06-.94-2.06-.94L8.5 2.5l-.94 2.06-2.06.94zm10 10l.94 2.06.94-2.06 2.06-.94-2.06-.94-.94-2.06-.94 2.06-2.06.94z\"/><path d=\"M17.41 7.96l-1.37-1.37c-.4-.4-.92-.59-1.43-.59-.52 0-1.04.2-1.43.59L10.3 9.45l-7.72 7.72c-.78.78-.78 2.05 0 2.83L4 21.41c.39.39.9.59 1.41.59.51 0 1.02-.2 1.41-.59l7.78-7.78 2.81-2.81c.8-.78.8-2.07 0-2.86zM5.41 20L4 18.59l7.72-7.72 1.47 1.35L5.41 20z\"/>\n",
              "  </svg>\n",
              "      </button>\n",
              "      \n",
              "  <style>\n",
              "    .colab-df-container {\n",
              "      display:flex;\n",
              "      flex-wrap:wrap;\n",
              "      gap: 12px;\n",
              "    }\n",
              "\n",
              "    .colab-df-convert {\n",
              "      background-color: #E8F0FE;\n",
              "      border: none;\n",
              "      border-radius: 50%;\n",
              "      cursor: pointer;\n",
              "      display: none;\n",
              "      fill: #1967D2;\n",
              "      height: 32px;\n",
              "      padding: 0 0 0 0;\n",
              "      width: 32px;\n",
              "    }\n",
              "\n",
              "    .colab-df-convert:hover {\n",
              "      background-color: #E2EBFA;\n",
              "      box-shadow: 0px 1px 2px rgba(60, 64, 67, 0.3), 0px 1px 3px 1px rgba(60, 64, 67, 0.15);\n",
              "      fill: #174EA6;\n",
              "    }\n",
              "\n",
              "    [theme=dark] .colab-df-convert {\n",
              "      background-color: #3B4455;\n",
              "      fill: #D2E3FC;\n",
              "    }\n",
              "\n",
              "    [theme=dark] .colab-df-convert:hover {\n",
              "      background-color: #434B5C;\n",
              "      box-shadow: 0px 1px 3px 1px rgba(0, 0, 0, 0.15);\n",
              "      filter: drop-shadow(0px 1px 2px rgba(0, 0, 0, 0.3));\n",
              "      fill: #FFFFFF;\n",
              "    }\n",
              "  </style>\n",
              "\n",
              "      <script>\n",
              "        const buttonEl =\n",
              "          document.querySelector('#df-af8563f3-70fb-4dff-8f93-82414c37e2f3 button.colab-df-convert');\n",
              "        buttonEl.style.display =\n",
              "          google.colab.kernel.accessAllowed ? 'block' : 'none';\n",
              "\n",
              "        async function convertToInteractive(key) {\n",
              "          const element = document.querySelector('#df-af8563f3-70fb-4dff-8f93-82414c37e2f3');\n",
              "          const dataTable =\n",
              "            await google.colab.kernel.invokeFunction('convertToInteractive',\n",
              "                                                     [key], {});\n",
              "          if (!dataTable) return;\n",
              "\n",
              "          const docLinkHtml = 'Like what you see? Visit the ' +\n",
              "            '<a target=\"_blank\" href=https://colab.research.google.com/notebooks/data_table.ipynb>data table notebook</a>'\n",
              "            + ' to learn more about interactive tables.';\n",
              "          element.innerHTML = '';\n",
              "          dataTable['output_type'] = 'display_data';\n",
              "          await google.colab.output.renderOutput(dataTable, element);\n",
              "          const docLink = document.createElement('div');\n",
              "          docLink.innerHTML = docLinkHtml;\n",
              "          element.appendChild(docLink);\n",
              "        }\n",
              "      </script>\n",
              "    </div>\n",
              "  </div>\n",
              "  "
            ]
          },
          "metadata": {},
          "execution_count": 16
        }
      ],
      "source": [
        "try:\n",
        "    orders = pd.read_csv('/datasets/orders.csv') #прочитаю файл \n",
        "except:\n",
        "    orders = pd.read_csv('https://code.s3.yandex.net/datasets/orders.csv')\n",
        "orders.info()\n",
        "orders.head(5)"
      ]
    },
    {
      "cell_type": "code",
      "execution_count": null,
      "metadata": {
        "colab": {
          "base_uri": "https://localhost:8080/",
          "height": 380
        },
        "id": "Tl738JlOFV00",
        "outputId": "ac6b9dda-b113-4eea-e731-294b4320e08d"
      },
      "outputs": [
        {
          "output_type": "stream",
          "name": "stdout",
          "text": [
            "<class 'pandas.core.frame.DataFrame'>\n",
            "RangeIndex: 62 entries, 0 to 61\n",
            "Data columns (total 3 columns):\n",
            " #   Column    Non-Null Count  Dtype \n",
            "---  ------    --------------  ----- \n",
            " 0   date      62 non-null     object\n",
            " 1   group     62 non-null     object\n",
            " 2   visitors  62 non-null     int64 \n",
            "dtypes: int64(1), object(2)\n",
            "memory usage: 1.6+ KB\n"
          ]
        },
        {
          "output_type": "execute_result",
          "data": {
            "text/plain": [
              "         date group  visitors\n",
              "0  2019-08-01     A       719\n",
              "1  2019-08-02     A       619\n",
              "2  2019-08-03     A       507\n",
              "3  2019-08-04     A       717\n",
              "4  2019-08-05     A       756"
            ],
            "text/html": [
              "\n",
              "  <div id=\"df-a1375b53-1efb-43ca-98ab-99310c3c3894\">\n",
              "    <div class=\"colab-df-container\">\n",
              "      <div>\n",
              "<style scoped>\n",
              "    .dataframe tbody tr th:only-of-type {\n",
              "        vertical-align: middle;\n",
              "    }\n",
              "\n",
              "    .dataframe tbody tr th {\n",
              "        vertical-align: top;\n",
              "    }\n",
              "\n",
              "    .dataframe thead th {\n",
              "        text-align: right;\n",
              "    }\n",
              "</style>\n",
              "<table border=\"1\" class=\"dataframe\">\n",
              "  <thead>\n",
              "    <tr style=\"text-align: right;\">\n",
              "      <th></th>\n",
              "      <th>date</th>\n",
              "      <th>group</th>\n",
              "      <th>visitors</th>\n",
              "    </tr>\n",
              "  </thead>\n",
              "  <tbody>\n",
              "    <tr>\n",
              "      <th>0</th>\n",
              "      <td>2019-08-01</td>\n",
              "      <td>A</td>\n",
              "      <td>719</td>\n",
              "    </tr>\n",
              "    <tr>\n",
              "      <th>1</th>\n",
              "      <td>2019-08-02</td>\n",
              "      <td>A</td>\n",
              "      <td>619</td>\n",
              "    </tr>\n",
              "    <tr>\n",
              "      <th>2</th>\n",
              "      <td>2019-08-03</td>\n",
              "      <td>A</td>\n",
              "      <td>507</td>\n",
              "    </tr>\n",
              "    <tr>\n",
              "      <th>3</th>\n",
              "      <td>2019-08-04</td>\n",
              "      <td>A</td>\n",
              "      <td>717</td>\n",
              "    </tr>\n",
              "    <tr>\n",
              "      <th>4</th>\n",
              "      <td>2019-08-05</td>\n",
              "      <td>A</td>\n",
              "      <td>756</td>\n",
              "    </tr>\n",
              "  </tbody>\n",
              "</table>\n",
              "</div>\n",
              "      <button class=\"colab-df-convert\" onclick=\"convertToInteractive('df-a1375b53-1efb-43ca-98ab-99310c3c3894')\"\n",
              "              title=\"Convert this dataframe to an interactive table.\"\n",
              "              style=\"display:none;\">\n",
              "        \n",
              "  <svg xmlns=\"http://www.w3.org/2000/svg\" height=\"24px\"viewBox=\"0 0 24 24\"\n",
              "       width=\"24px\">\n",
              "    <path d=\"M0 0h24v24H0V0z\" fill=\"none\"/>\n",
              "    <path d=\"M18.56 5.44l.94 2.06.94-2.06 2.06-.94-2.06-.94-.94-2.06-.94 2.06-2.06.94zm-11 1L8.5 8.5l.94-2.06 2.06-.94-2.06-.94L8.5 2.5l-.94 2.06-2.06.94zm10 10l.94 2.06.94-2.06 2.06-.94-2.06-.94-.94-2.06-.94 2.06-2.06.94z\"/><path d=\"M17.41 7.96l-1.37-1.37c-.4-.4-.92-.59-1.43-.59-.52 0-1.04.2-1.43.59L10.3 9.45l-7.72 7.72c-.78.78-.78 2.05 0 2.83L4 21.41c.39.39.9.59 1.41.59.51 0 1.02-.2 1.41-.59l7.78-7.78 2.81-2.81c.8-.78.8-2.07 0-2.86zM5.41 20L4 18.59l7.72-7.72 1.47 1.35L5.41 20z\"/>\n",
              "  </svg>\n",
              "      </button>\n",
              "      \n",
              "  <style>\n",
              "    .colab-df-container {\n",
              "      display:flex;\n",
              "      flex-wrap:wrap;\n",
              "      gap: 12px;\n",
              "    }\n",
              "\n",
              "    .colab-df-convert {\n",
              "      background-color: #E8F0FE;\n",
              "      border: none;\n",
              "      border-radius: 50%;\n",
              "      cursor: pointer;\n",
              "      display: none;\n",
              "      fill: #1967D2;\n",
              "      height: 32px;\n",
              "      padding: 0 0 0 0;\n",
              "      width: 32px;\n",
              "    }\n",
              "\n",
              "    .colab-df-convert:hover {\n",
              "      background-color: #E2EBFA;\n",
              "      box-shadow: 0px 1px 2px rgba(60, 64, 67, 0.3), 0px 1px 3px 1px rgba(60, 64, 67, 0.15);\n",
              "      fill: #174EA6;\n",
              "    }\n",
              "\n",
              "    [theme=dark] .colab-df-convert {\n",
              "      background-color: #3B4455;\n",
              "      fill: #D2E3FC;\n",
              "    }\n",
              "\n",
              "    [theme=dark] .colab-df-convert:hover {\n",
              "      background-color: #434B5C;\n",
              "      box-shadow: 0px 1px 3px 1px rgba(0, 0, 0, 0.15);\n",
              "      filter: drop-shadow(0px 1px 2px rgba(0, 0, 0, 0.3));\n",
              "      fill: #FFFFFF;\n",
              "    }\n",
              "  </style>\n",
              "\n",
              "      <script>\n",
              "        const buttonEl =\n",
              "          document.querySelector('#df-a1375b53-1efb-43ca-98ab-99310c3c3894 button.colab-df-convert');\n",
              "        buttonEl.style.display =\n",
              "          google.colab.kernel.accessAllowed ? 'block' : 'none';\n",
              "\n",
              "        async function convertToInteractive(key) {\n",
              "          const element = document.querySelector('#df-a1375b53-1efb-43ca-98ab-99310c3c3894');\n",
              "          const dataTable =\n",
              "            await google.colab.kernel.invokeFunction('convertToInteractive',\n",
              "                                                     [key], {});\n",
              "          if (!dataTable) return;\n",
              "\n",
              "          const docLinkHtml = 'Like what you see? Visit the ' +\n",
              "            '<a target=\"_blank\" href=https://colab.research.google.com/notebooks/data_table.ipynb>data table notebook</a>'\n",
              "            + ' to learn more about interactive tables.';\n",
              "          element.innerHTML = '';\n",
              "          dataTable['output_type'] = 'display_data';\n",
              "          await google.colab.output.renderOutput(dataTable, element);\n",
              "          const docLink = document.createElement('div');\n",
              "          docLink.innerHTML = docLinkHtml;\n",
              "          element.appendChild(docLink);\n",
              "        }\n",
              "      </script>\n",
              "    </div>\n",
              "  </div>\n",
              "  "
            ]
          },
          "metadata": {},
          "execution_count": 17
        }
      ],
      "source": [
        "try:\n",
        "    visitors = pd.read_csv('/datasets/visitors.csv') #прочитаю файл \n",
        "except:\n",
        "    visitors = pd.read_csv('https://code.s3.yandex.net/datasets/visitors.csv')\n",
        "visitors.info()\n",
        "visitors.head(5)"
      ]
    },
    {
      "cell_type": "markdown",
      "metadata": {
        "id": "grPn9gqgFV01"
      },
      "source": [
        "В обоих датафреймах данные столбца с датой имеют формат object, для работы с датой необходио перевести данные этих столбцов в формат даты datetime методом pd.to_datetime():"
      ]
    },
    {
      "cell_type": "code",
      "execution_count": null,
      "metadata": {
        "id": "dmo23w2FFV01"
      },
      "outputs": [],
      "source": [
        "orders['date'] = pd.to_datetime(orders['date'])\n",
        "visitors['date'] = pd.to_datetime(visitors['date'])"
      ]
    },
    {
      "cell_type": "markdown",
      "metadata": {
        "id": "G3sLU8WrFV02"
      },
      "source": [
        "Также переименуем названия двух столбцов датафрейма orders методом rename() для лучшей наглядности:"
      ]
    },
    {
      "cell_type": "code",
      "execution_count": null,
      "metadata": {
        "id": "w6OWIJAzFV02"
      },
      "outputs": [],
      "source": [
        "orders.rename(columns = {'transactionId':'transaction_id', 'visitorId':'visitor_id'}, inplace = True)"
      ]
    },
    {
      "cell_type": "markdown",
      "metadata": {
        "id": "kcWblFplFV02"
      },
      "source": [
        "Проверим наличие полных  дубликатов и пропущенных данных в обоих датафреймах:"
      ]
    },
    {
      "cell_type": "code",
      "execution_count": null,
      "metadata": {
        "colab": {
          "base_uri": "https://localhost:8080/",
          "height": 52
        },
        "id": "RjkanbDZFV02",
        "outputId": "1a214e28-654d-4de0-b1b7-b2e938a24b2b"
      },
      "outputs": [
        {
          "output_type": "display_data",
          "data": {
            "text/plain": [
              "0"
            ]
          },
          "metadata": {}
        },
        {
          "output_type": "execute_result",
          "data": {
            "text/plain": [
              "0"
            ]
          },
          "metadata": {},
          "execution_count": 20
        }
      ],
      "source": [
        "display(len(orders[orders.duplicated()]))#полных дубликатов нет\n",
        "len(visitors[visitors.duplicated()])# полных дубликатов нет"
      ]
    },
    {
      "cell_type": "code",
      "execution_count": null,
      "metadata": {
        "colab": {
          "base_uri": "https://localhost:8080/",
          "height": 191
        },
        "id": "7h78Xx0-FV03",
        "outputId": "4a757c62-a0c0-4442-ac4e-7ecb2b36f102"
      },
      "outputs": [
        {
          "output_type": "display_data",
          "data": {
            "text/plain": [
              "transaction_id    0\n",
              "visitor_id        0\n",
              "date              0\n",
              "revenue           0\n",
              "group             0\n",
              "dtype: int64"
            ]
          },
          "metadata": {}
        },
        {
          "output_type": "execute_result",
          "data": {
            "text/plain": [
              "date        0\n",
              "group       0\n",
              "visitors    0\n",
              "dtype: int64"
            ]
          },
          "metadata": {},
          "execution_count": 21
        }
      ],
      "source": [
        "display(orders.isnull().sum())# пропусков нет\n",
        "visitors.isnull().sum() # пропусков нет"
      ]
    },
    {
      "cell_type": "code",
      "execution_count": null,
      "metadata": {
        "colab": {
          "base_uri": "https://localhost:8080/",
          "height": 416
        },
        "id": "Tpy63q-WFV03",
        "outputId": "0ef0f664-ba6e-4a90-cd2b-51e056029866"
      },
      "outputs": [
        {
          "output_type": "stream",
          "name": "stdout",
          "text": [
            "<class 'pandas.core.frame.DataFrame'>\n",
            "RangeIndex: 1197 entries, 0 to 1196\n",
            "Data columns (total 5 columns):\n",
            " #   Column          Non-Null Count  Dtype         \n",
            "---  ------          --------------  -----         \n",
            " 0   transaction_id  1197 non-null   int64         \n",
            " 1   visitor_id      1197 non-null   int64         \n",
            " 2   date            1197 non-null   datetime64[ns]\n",
            " 3   revenue         1197 non-null   int64         \n",
            " 4   group           1197 non-null   object        \n",
            "dtypes: datetime64[ns](1), int64(3), object(1)\n",
            "memory usage: 46.9+ KB\n"
          ]
        },
        {
          "output_type": "display_data",
          "data": {
            "text/plain": [
              "None"
            ]
          },
          "metadata": {}
        },
        {
          "output_type": "stream",
          "name": "stdout",
          "text": [
            "<class 'pandas.core.frame.DataFrame'>\n",
            "RangeIndex: 62 entries, 0 to 61\n",
            "Data columns (total 3 columns):\n",
            " #   Column    Non-Null Count  Dtype         \n",
            "---  ------    --------------  -----         \n",
            " 0   date      62 non-null     datetime64[ns]\n",
            " 1   group     62 non-null     object        \n",
            " 2   visitors  62 non-null     int64         \n",
            "dtypes: datetime64[ns](1), int64(1), object(1)\n",
            "memory usage: 1.6+ KB\n"
          ]
        }
      ],
      "source": [
        "#Проверим результат изменений форматов данных и названий столбцов\n",
        "display(orders.info())\n",
        "visitors.info()"
      ]
    },
    {
      "cell_type": "markdown",
      "metadata": {
        "id": "MWb8uzaQFV04"
      },
      "source": [
        "Стоит провести дополнительные исследования качества данных:\n",
        "- сколько у нас групп в АВ-тесте;\n",
        "- сколько пользователей в каждой группе - по таблице с заказами;\n",
        "- найти минимальную и максимальную дату исследования;\n",
        "- не попадают ли какие-то пользователи в обе группы - по таблице с заказами. Пересечение групп может повлиять на результаты анализа."
      ]
    },
    {
      "cell_type": "code",
      "execution_count": null,
      "metadata": {
        "colab": {
          "base_uri": "https://localhost:8080/",
          "height": 121
        },
        "id": "fpMXj-Y7FV05",
        "outputId": "03af6919-251a-441a-c97a-eb7b00748e38"
      },
      "outputs": [
        {
          "output_type": "display_data",
          "data": {
            "text/plain": [
              "B    640\n",
              "A    557\n",
              "Name: group, dtype: int64"
            ]
          },
          "metadata": {}
        },
        {
          "output_type": "execute_result",
          "data": {
            "text/plain": [
              "A    31\n",
              "B    31\n",
              "Name: group, dtype: int64"
            ]
          },
          "metadata": {},
          "execution_count": 23
        }
      ],
      "source": [
        "display(orders['group'].value_counts()) #количество групп и пользователей в таблице с заказами\n",
        "visitors['group'].value_counts() #количество групп и пользователей в таблице с визитами"
      ]
    },
    {
      "cell_type": "markdown",
      "metadata": {
        "id": "2xC7oqQmFV05"
      },
      "source": [
        "В каждой таблице рассматривается 2 группы пользователей - А и В, в группе А таблицы с заказами 557 человек,  в группе В - 640, то есть трафик поделен неравномерно. В таблице visitors также 2 группы А и В с равномерным распределением по 31 человек."
      ]
    },
    {
      "cell_type": "code",
      "execution_count": null,
      "metadata": {
        "colab": {
          "base_uri": "https://localhost:8080/",
          "height": 52
        },
        "id": "KFoU1k6wFV06",
        "outputId": "5fb229cf-da28-42fb-e109-a433bfad677b"
      },
      "outputs": [
        {
          "output_type": "display_data",
          "data": {
            "text/plain": [
              "Timestamp('2019-08-01 00:00:00')"
            ]
          },
          "metadata": {}
        },
        {
          "output_type": "display_data",
          "data": {
            "text/plain": [
              "Timestamp('2019-08-31 00:00:00')"
            ]
          },
          "metadata": {}
        }
      ],
      "source": [
        "display(orders['date'].min()) #начальная дата теста\n",
        "display(orders['date'].max()) #конечная дата теста"
      ]
    },
    {
      "cell_type": "markdown",
      "metadata": {
        "id": "lUzKvH0KFV06"
      },
      "source": [
        "Тест проводился 1 месяц - весь август 2019 года"
      ]
    },
    {
      "cell_type": "code",
      "execution_count": null,
      "metadata": {
        "colab": {
          "base_uri": "https://localhost:8080/"
        },
        "id": "QUAXolxjFV07",
        "outputId": "f72bce62-01e0-401b-f015-d3d091584095"
      },
      "outputs": [
        {
          "output_type": "execute_result",
          "data": {
            "text/plain": [
              "58"
            ]
          },
          "metadata": {},
          "execution_count": 25
        }
      ],
      "source": [
        "visitors_a  = set(orders[orders['group'] == 'A']['visitor_id'].unique()) #уникальные участники группы А\n",
        "visitors_b = set(orders[orders['group'] == 'B']['visitor_id'].unique()) #уникальные участники группы Б\n",
        "visitors_ab = visitors_a.intersection(visitors_b)# пересечение пользователей - участников обеих групп\n",
        "len(visitors_ab) #их колличество"
      ]
    },
    {
      "cell_type": "markdown",
      "metadata": {
        "id": "8RaEzU7dFV07"
      },
      "source": [
        "58 пользователей присутсвуют в обеих группах,  для улучшения качества теста их  следует удалить"
      ]
    },
    {
      "cell_type": "code",
      "execution_count": null,
      "metadata": {
        "id": "Z3a5m8_PFV08"
      },
      "outputs": [],
      "source": [
        "orders = orders[~orders[\"visitor_id\"].isin(visitors_ab)] #удаляем перескающихся участников обеих групп"
      ]
    },
    {
      "cell_type": "markdown",
      "metadata": {
        "id": "ULV2gMM0FV08"
      },
      "source": [
        "**Данные готовы к анализу A/B-теста.  Для начала построим график кумулятивной выручки по группам. Для этого создадим массив уникальных пар значений дат и групп теста и соберём агрегированные кумулятивные по дням данные о заказах в несколько действий**"
      ]
    },
    {
      "cell_type": "code",
      "execution_count": null,
      "metadata": {
        "colab": {
          "base_uri": "https://localhost:8080/",
          "height": 564
        },
        "id": "YPVopMXmFV09",
        "outputId": "5b396153-e574-4ffe-918a-af073eabd311"
      },
      "outputs": [
        {
          "output_type": "display_data",
          "data": {
            "text/plain": [
              "<Figure size 1200x600 with 1 Axes>"
            ],
            "image/png": "[encoded data removed]"
          },
          "metadata": {}
        }
      ],
      "source": [
        "#Создаем датафрейм datesGroups с уникальными парами значений 'date' и 'group', таблицы orders\n",
        "datesGroups = orders[['date','group']].drop_duplicates()\n",
        "\n",
        "# получаем агрегированные кумулятивные данные о заказах по дням \n",
        "ordersAggregated = datesGroups.apply(lambda x: orders[np.logical_and(orders['date'] <= x['date'], orders['group'] == x['group'])]\\\n",
        ".agg({'date' : 'max', 'group' : 'max', 'transaction_id' : 'nunique', 'visitor_id' : 'nunique', 'revenue' : 'sum'}), axis=1).sort_values(by=['date','group'])\n",
        "\n",
        "# получаем агрегированные кумулятивные по дням данные о посетителях интернет-магазина \n",
        "visitorsAggregated = datesGroups.apply(lambda x: visitors[np.logical_and(visitors['date'] <= x['date'], visitors['group'] == x['group'])]\n",
        ".agg({'date' : 'max', 'group' : 'max', 'visitors' : 'sum'}), axis=1).sort_values(by=['date','group']) \n",
        "\n",
        "# объединяем кумулятивные данные в одной таблице и присваиваем ее столбцам понятные названия\n",
        "cumulativeData = ordersAggregated.merge(visitorsAggregated, left_on=['date', 'group'], right_on=['date', 'group'])\n",
        "cumulativeData.columns = ['date', 'group', 'orders', 'buyers', 'revenue', 'visitors']\n",
        "\n",
        "# датафрейм с кумулятивным количеством заказов и кумулятивной выручкой по дням в группе А\n",
        "cumulativeRevenueA = cumulativeData[cumulativeData['group']=='A'][['date','revenue', 'orders']]\n",
        "\n",
        "# датафрейм с кумулятивным количеством заказов и кумулятивной выручкой по дням в группе B\n",
        "cumulativeRevenueB = cumulativeData[cumulativeData['group']=='B'][['date','revenue', 'orders']]\n",
        "\n",
        "# Строим графики выручки групп А и В\n",
        "plt.figure(figsize=(12,6)) #задаем размер графика\n",
        "plt.plot(cumulativeRevenueA['date'], cumulativeRevenueA['revenue'], label='группа A')\n",
        "plt.plot(cumulativeRevenueB['date'], cumulativeRevenueB['revenue'], label='группа B')\n",
        "plt.ylabel('Выручка') #название оси Y\n",
        "plt.xlabel('Дата') #название оси X\n",
        "plt.title('График кумулятивной выручки по группам A и B') #название графика\n",
        "plt.grid() #добавляем сетку для наглядности\n",
        "plt.legend() #подписи графиков  - групп А и В\n",
        "plt.show()"
      ]
    },
    {
      "cell_type": "markdown",
      "metadata": {
        "id": "PUZKiIs-FV09"
      },
      "source": [
        "Выручка  увеличивается в течение всего теста в обоих группах. Выручка группы А растет более плавно.\n",
        "Согласно данным графиков,  практически все время исследования (с 1 по 31 августа) выручка группы В была выше выручки группы А. До 5 августа группы показывали схожую динамику выручки. Одинаковые значения наблюдаются только  5 и 13 августа. 18 августа произошел резкий рост выручки группы В, который продолжился и далее,  что может сигнализировать о всплеске числа заказов, либо о появлении очень дорогих заказов в выборке"
      ]
    },
    {
      "cell_type": "markdown",
      "metadata": {
        "id": "L4Vxet2JFV0-"
      },
      "source": [
        "**Далее построим график кумулятивного среднего чека по группам, для этого разделим кумулятивную выручку на кумулятивное число заказов:**"
      ]
    },
    {
      "cell_type": "code",
      "execution_count": null,
      "metadata": {
        "colab": {
          "base_uri": "https://localhost:8080/",
          "height": 564
        },
        "id": "_vqwm8ZlFV0-",
        "outputId": "74e1e313-df81-4a44-bf94-7b4c7011e72e"
      },
      "outputs": [
        {
          "output_type": "display_data",
          "data": {
            "text/plain": [
              "<Figure size 1200x600 with 1 Axes>"
            ],
            "image/png": "[encoded data removed]"
          },
          "metadata": {}
        }
      ],
      "source": [
        "plt.figure(figsize=(12,6))\n",
        "plt.plot(cumulativeRevenueA['date'], cumulativeRevenueA['revenue']/cumulativeRevenueA['orders'], label='группа A')\n",
        "plt.plot(cumulativeRevenueB['date'], cumulativeRevenueB['revenue']/cumulativeRevenueB['orders'], label='группа B')\n",
        "plt.ylabel('Средний чек')\n",
        "plt.xlabel('Дата')\n",
        "plt.title('График изменения среднего чека в группах A и B')\n",
        "plt.grid()\n",
        "plt.legend()\n",
        "plt.show()"
      ]
    },
    {
      "cell_type": "markdown",
      "metadata": {
        "id": "zXDTo6IKFV0-"
      },
      "source": [
        "График среднего чека группы В показывает лучшую динамику роста,  чем график среднего чека группы А. \n",
        "За все время теста только несколько дней (предположительно 1, 11,12,13 и 14 августа) средний чек группы А превышал средний чек группы В. После 13 августа средний чек группы А остается примерно на том же уровне. В группе В снова наблюдается резкий рост 18 августа, что также говорит о наличии аномалии в данных (вероятно заказа(-ов) с очень большой суммой)"
      ]
    },
    {
      "cell_type": "markdown",
      "metadata": {
        "id": "YKRTT3m5FV0_"
      },
      "source": [
        "**Построим график относительного различия для среднего чека. Добавим горизонтальную ось методом axhline() (от англ. horizontal line across the axis*, «горизонтальная линия поперек оси»):**"
      ]
    },
    {
      "cell_type": "code",
      "execution_count": null,
      "metadata": {
        "colab": {
          "base_uri": "https://localhost:8080/",
          "height": 564
        },
        "id": "-d_nfZtdFV0_",
        "outputId": "3d90ca5d-8ec0-42a4-eed2-361cb00cf55b"
      },
      "outputs": [
        {
          "output_type": "display_data",
          "data": {
            "text/plain": [
              "<Figure size 1200x600 with 1 Axes>"
            ],
            "image/png": "[encoded data removed]"
          },
          "metadata": {}
        }
      ],
      "source": [
        "# собираем данные в одном датафрейме\n",
        "mergedCumulativeRevenue = cumulativeRevenueA.merge(cumulativeRevenueB, left_on='date', right_on='date', how='left', suffixes=['A', 'B'])\n",
        "# cтроим отношение средних чеков\n",
        "plt.figure(figsize=(12,6))\n",
        "plt.plot(mergedCumulativeRevenue['date'], (mergedCumulativeRevenue['revenueB']/mergedCumulativeRevenue['ordersB'])/(mergedCumulativeRevenue['revenueA']/mergedCumulativeRevenue['ordersA'])-1)\n",
        "# добавляем ось X\n",
        "plt.axhline(y=0, color='black', linestyle='--')\n",
        "plt.ylabel('Относительное изменение')\n",
        "plt.xlabel('Дата')\n",
        "plt.title('График относительного различия для среднего чека группы В к группе А')\n",
        "plt.grid()\n",
        "plt.show()"
      ]
    },
    {
      "cell_type": "markdown",
      "metadata": {
        "id": "Ae0S0l0kFV0_"
      },
      "source": [
        "В нескольких точках график различия между группами А и В резко «скачет»: резко растет с начала теста, далее 7 августа - резко падает,  18 августа - снова резко растет. Это также свидетельствует о неоднородности данных. "
      ]
    },
    {
      "cell_type": "markdown",
      "metadata": {
        "id": "YT9U89cEFV1A"
      },
      "source": [
        "**Построим график кумулятивного среднего количества заказов на посетителя по группам**"
      ]
    },
    {
      "cell_type": "code",
      "execution_count": null,
      "metadata": {
        "colab": {
          "base_uri": "https://localhost:8080/",
          "height": 564
        },
        "id": "6OdA16nIFV1A",
        "outputId": "80db397c-dee6-4164-f703-af70571192c7"
      },
      "outputs": [
        {
          "output_type": "display_data",
          "data": {
            "text/plain": [
              "<Figure size 1200x600 with 1 Axes>"
            ],
            "image/png": "[encoded data removed]"
          },
          "metadata": {}
        }
      ],
      "source": [
        "# считаем среднее количество заказов на посетителя\n",
        "cumulativeData['mean_orders'] = cumulativeData['orders']/cumulativeData['visitors']\n",
        "# отделяем данные по группе A\n",
        "cumulativeDataA = cumulativeData[cumulativeData['group']=='A']\n",
        "\n",
        "# отделяем данные по группе B\n",
        "cumulativeDataB = cumulativeData[cumulativeData['group']=='B']\n",
        "\n",
        "# строим графики\n",
        "plt.figure(figsize=(12,6))\n",
        "plt.plot(cumulativeDataA['date'], cumulativeDataA['mean_orders'], label='группа A')\n",
        "plt.plot(cumulativeDataB['date'], cumulativeDataB['mean_orders'], label='группа B')\n",
        "plt.ylabel('Среднее количество заказов на посетителя')\n",
        "plt.xlabel('Дата')\n",
        "plt.title('График изменения кумулятивного среднего количества заказов на посетителя по группам А и В')\n",
        "plt.grid()\n",
        "plt.legend()\n",
        "plt.show()"
      ]
    },
    {
      "cell_type": "markdown",
      "metadata": {
        "id": "lizF9nwTFV1A"
      },
      "source": [
        "В начале теста обе группы демонстрировали схожую динамику,  причем группа А лидировала на протяжении 4 дней теста. Однако 6 августа произошел резкий рост кумулятивного среднего количества заказов на посетителя в группе В при аналогичном падении в группе А,  после чего графики постепенно выравниваются на уровне 0,029 (группа В) и 0,025 (группа А) и группа В значительно опережает группу А до конца теста"
      ]
    },
    {
      "cell_type": "markdown",
      "metadata": {
        "id": "eHdeIJjJFV1B"
      },
      "source": [
        "**Построим график относительного изменения кумулятивного среднего количества заказов на посетителя группы B к группе A**"
      ]
    },
    {
      "cell_type": "code",
      "execution_count": null,
      "metadata": {
        "colab": {
          "base_uri": "https://localhost:8080/",
          "height": 564
        },
        "id": "8lbzaAeuFV1B",
        "outputId": "c1319767-2152-4b57-b07e-109bc923bd0f"
      },
      "outputs": [
        {
          "output_type": "display_data",
          "data": {
            "text/plain": [
              "<Figure size 1200x600 with 1 Axes>"
            ],
            "image/png": "[encoded data removed]"
          },
          "metadata": {}
        }
      ],
      "source": [
        "mergedCumulative_mean_orders = cumulativeDataA[['date','mean_orders']].merge(cumulativeDataB[['date','mean_orders']], left_on='date', right_on='date', how='left', suffixes=['A', 'B'])\n",
        "plt.figure(figsize=(12,6))\n",
        "plt.plot(mergedCumulative_mean_orders['date'], mergedCumulative_mean_orders['mean_ordersB']/mergedCumulative_mean_orders['mean_ordersA']-1)\n",
        "plt.ylabel('Относительный прирост')\n",
        "plt.xlabel('Дата')\n",
        "plt.title('Относительный прирост кумулятивного среднего количества заказов группы B относительно группы A')\n",
        "plt.grid()\n",
        "plt.axhline(y=0, color='black', linestyle='--')\n",
        "plt.axhline(y=0.1, color='grey', linestyle='--')\n",
        "plt.show()"
      ]
    },
    {
      "cell_type": "markdown",
      "metadata": {
        "id": "DkotCNNqFV1B"
      },
      "source": [
        "Согласно данным графика, до 6 августа прирост был отрицательным,  то есть лидировала группа А, однако далее произошел резкий рост группы В с пиковым значением на уровне 20%, а  относительный прирост кумулятивного среднего количества заказов на посетителя  группы B относительно группы A к концу теста составляет примерно 14%. Несмотря на очевидное лидерство группы В по многим параметрам, сейчас делать какие-либо выводы по тесту нельзя. Сперва стоит проанализировать аномалии, возможно, они изменят картину"
      ]
    },
    {
      "cell_type": "markdown",
      "metadata": {
        "id": "jeMFlO-LFV1C"
      },
      "source": [
        "**Для этого построим точечный график количества заказов по пользователям. Создадим датафрейм ordersByUsers с количеством заказов для каждого пользователя. Метод .groupby('...', as_index=False) сгруппирует заказы по пользователям, метод .agg({'...' : 'nunique',}) подсчитает число уникальных заказов по сгруппированным данным**"
      ]
    },
    {
      "cell_type": "code",
      "execution_count": null,
      "metadata": {
        "colab": {
          "base_uri": "https://localhost:8080/",
          "height": 564
        },
        "id": "re3cGJWqFV1C",
        "outputId": "53eb7e5d-3960-4255-a025-9bf3709b2ca6"
      },
      "outputs": [
        {
          "output_type": "display_data",
          "data": {
            "text/plain": [
              "<Figure size 1200x600 with 1 Axes>"
            ],
            "image/png": "[encoded data removed]"
          },
          "metadata": {}
        }
      ],
      "source": [
        "ordersByUsers = (orders.groupby('visitor_id', as_index=False).agg({'transaction_id': 'nunique'}))\n",
        "ordersByUsers.columns = ['user_id', 'orders']\n",
        "# серия из чисел от 0 до количества наблюдений в ordersByUsers\n",
        "x_values = pd.Series(range(0, len(ordersByUsers)))\n",
        "plt.figure(figsize=(12,6))\n",
        "plt.ylabel('Количество заказов')\n",
        "plt.xlabel('Количество наблюдений (Пользователи)')\n",
        "plt.title('Количество заказов на одного пользователя')\n",
        "plt.grid()\n",
        "plt.scatter(x_values, ordersByUsers['orders']) \n",
        "plt.show()"
      ]
    },
    {
      "cell_type": "markdown",
      "metadata": {
        "id": "I8bToIcwFV1D"
      },
      "source": [
        "Большинство пользователей совершают 1 заказ, также достаточно большое количество юзеров совершают 2 заказа. 3 заказа оставяет минимальное количество пользователей\n",
        "**Чтобы более точно выбрать границу для определения аномальных пользователей, посчитаем 95-й и 99-й перцентили количества заказов на пользователя методом np.percentile()**"
      ]
    },
    {
      "cell_type": "code",
      "execution_count": null,
      "metadata": {
        "colab": {
          "base_uri": "https://localhost:8080/"
        },
        "id": "ljnwy6cSFV1D",
        "outputId": "2b579f6d-79ce-4731-e1df-e82aa08069b2"
      },
      "outputs": [
        {
          "output_type": "execute_result",
          "data": {
            "text/plain": [
              "array([1., 2.])"
            ]
          },
          "metadata": {},
          "execution_count": 33
        }
      ],
      "source": [
        "np.percentile(ordersByUsers['orders'], [95, 99])"
      ]
    },
    {
      "cell_type": "markdown",
      "metadata": {
        "id": "U-1il3rcFV1E"
      },
      "source": [
        "Не более 5% пользователей совершали более 2 заказов, и не более 1% - больше 4х заказов. Соответственно,  можно считать,  что аномалиями являются пользователи, сделавшие больше 2х заказов."
      ]
    },
    {
      "cell_type": "markdown",
      "metadata": {
        "id": "BFUCZN2EFV1F"
      },
      "source": [
        "**По аналогии проанализируем точечный график стоимостей заказов пользователей**"
      ]
    },
    {
      "cell_type": "code",
      "execution_count": null,
      "metadata": {
        "colab": {
          "base_uri": "https://localhost:8080/",
          "height": 564
        },
        "id": "sahumoUQFV1F",
        "outputId": "4388ab70-6808-4e75-9829-2a7b190da3a5"
      },
      "outputs": [
        {
          "output_type": "display_data",
          "data": {
            "text/plain": [
              "<Figure size 1200x600 with 1 Axes>"
            ],
            "image/png": "[encoded data removed]"
          },
          "metadata": {}
        }
      ],
      "source": [
        "x_values = pd.Series(range(0, len(orders['revenue'])))\n",
        "plt.figure(figsize=(12,6))\n",
        "plt.ylabel('Стоимость заказа')\n",
        "plt.xlabel('Количество наблюдений (Пользователи)')\n",
        "plt.title('Стоимость заказа')\n",
        "plt.grid()\n",
        "plt.scatter(x_values, orders['revenue']) \n",
        "plt.show()"
      ]
    },
    {
      "cell_type": "markdown",
      "metadata": {
        "id": "MmmCCOMWFV1G"
      },
      "source": [
        "Большинство бользователей совершают заказы стоимостью не более 50000р, также встречаются выбросы на уровне 100-200т.р., максимум наблюдается у 1 пользователя - заказ со стоимостью  более 1,2 млнр. **Чтобы более точно выбрать границу для определения аномальных данных, посчитаем 95-й и 99-й перцентили количества заказов на пользователя методом np.percentile()**"
      ]
    },
    {
      "cell_type": "code",
      "execution_count": null,
      "metadata": {
        "colab": {
          "base_uri": "https://localhost:8080/"
        },
        "id": "c9TakRAVFV1G",
        "outputId": "92a7d974-f315-479b-9c85-52da9b15c5cb"
      },
      "outputs": [
        {
          "output_type": "execute_result",
          "data": {
            "text/plain": [
              "array([26785., 53904.])"
            ]
          },
          "metadata": {},
          "execution_count": 35
        }
      ],
      "source": [
        "np.percentile(orders['revenue'], [95, 99])"
      ]
    },
    {
      "cell_type": "markdown",
      "metadata": {
        "id": "aLadFcEQFV1J"
      },
      "source": [
        "Не более 5% пользователей осуществлял заказ дороже 26 785р, и не более 1% - больше 53 904р. Соответственно, можно считать, что аномалиями являются пользователи, делавшие заказы дороже 26 785р."
      ]
    },
    {
      "cell_type": "markdown",
      "metadata": {
        "id": "OM_XYQGTFV1L"
      },
      "source": [
        "**Посчитаем статистическую значимость различий в среднем количестве заказов на посетителя между группами по «сырым» данным**\n",
        "**Сформулируем гипотезы. Нулевая: различий в среднем количестве заказов между группами нет. Альтернативная: различия в среднем между группами есть**\n",
        "\n",
        "Создадим переменные ordersByUsersA и ordersByUsersB со столбцами ['transaction_id', 'visitor_id'], где для пользователей, совершивших хотя бы 1 заказ, будет указано число заказов. \n",
        "Объявим переменные sampleA и sampleB, в которых пользователям с заказами будет соответствовать число заказов пользователя. А пользователям без заказов — нули. \n",
        "Посчитаем статистическую значимость различия среднего количества заказов по результатам теста. Применим тест Манна-Уитни. \n",
        "Выведем p-value для сравнения среднего между группами. Округлим p-value до 5 знаков после запятой. \n",
        "Вычислим и выведем относительное различие в среднем между группами. Округлим результат до 5 знаков после запятой"
      ]
    },
    {
      "cell_type": "code",
      "execution_count": null,
      "metadata": {
        "colab": {
          "base_uri": "https://localhost:8080/"
        },
        "id": "16A5a5EhFV1L",
        "outputId": "2406d75d-6003-40c4-ab66-743b45bcebb2"
      },
      "outputs": [
        {
          "output_type": "stream",
          "name": "stdout",
          "text": [
            "0.01102\n",
            "0.15980\n"
          ]
        }
      ],
      "source": [
        "visitorsADaily = visitors[visitors['group'] == 'A'][['date', 'visitors']]\n",
        "visitorsADaily.columns = ['date', 'visitorsPerDateA']\n",
        "\n",
        "visitorsACummulative = visitorsADaily.apply(\n",
        "    lambda x: visitorsADaily[visitorsADaily['date'] <= x['date']].agg(\n",
        "        {'date': 'max', 'visitorsPerDateA': 'sum'}\n",
        "    ),\n",
        "    axis=1,\n",
        ")\n",
        "visitorsACummulative.columns = ['date', 'visitorsCummulativeA']\n",
        "\n",
        "visitorsBDaily = visitors[visitors['group'] == 'B'][['date', 'visitors']]\n",
        "visitorsBDaily.columns = ['date', 'visitorsPerDateB']\n",
        "\n",
        "visitorsBCummulative = visitorsBDaily.apply(\n",
        "    lambda x: visitorsBDaily[visitorsBDaily['date'] <= x['date']].agg(\n",
        "        {'date': 'max', 'visitorsPerDateB': 'sum'}\n",
        "    ),\n",
        "    axis=1,\n",
        ")\n",
        "visitorsBCummulative.columns = ['date', 'visitorsCummulativeB']\n",
        "\n",
        "ordersADaily = (\n",
        "    orders[orders['group'] == 'A'][['date', 'transaction_id', 'visitor_id', 'revenue']]\n",
        "    .groupby('date', as_index=False)\n",
        "    .agg({'transaction_id': pd.Series.nunique, 'revenue': 'sum'})\n",
        ")\n",
        "ordersADaily.columns = ['date', 'ordersPerDateA', 'revenuePerDateA']\n",
        "\n",
        "ordersACummulative = ordersADaily.apply(\n",
        "    lambda x: ordersADaily[ordersADaily['date'] <= x['date']].agg(\n",
        "        {'date': 'max', 'ordersPerDateA': 'sum', 'revenuePerDateA': 'sum'}\n",
        "    ),\n",
        "    axis=1,\n",
        ").sort_values(by=['date'])\n",
        "ordersACummulative.columns = [\n",
        "    'date',\n",
        "    'ordersCummulativeA',\n",
        "    'revenueCummulativeA',\n",
        "]\n",
        "\n",
        "ordersBDaily = (\n",
        "    orders[orders['group'] == 'B'][['date', 'transaction_id', 'visitor_id', 'revenue']]\n",
        "    .groupby('date', as_index=False)\n",
        "    .agg({'transaction_id': pd.Series.nunique, 'revenue': 'sum'})\n",
        ")\n",
        "ordersBDaily.columns = ['date', 'ordersPerDateB', 'revenuePerDateB']\n",
        "\n",
        "ordersBCummulative = ordersBDaily.apply(\n",
        "    lambda x: ordersBDaily[ordersBDaily['date'] <= x['date']].agg(\n",
        "        {'date': 'max', 'ordersPerDateB': 'sum', 'revenuePerDateB': 'sum'}\n",
        "    ),\n",
        "    axis=1,\n",
        ").sort_values(by=['date'])\n",
        "ordersBCummulative.columns = [\n",
        "    'date',\n",
        "    'ordersCummulativeB',\n",
        "    'revenueCummulativeB',\n",
        "]\n",
        "\n",
        "data = (\n",
        "    ordersADaily.merge(\n",
        "        ordersBDaily, left_on='date', right_on='date', how='left'\n",
        "    )\n",
        "    .merge(ordersACummulative, left_on='date', right_on='date', how='left')\n",
        "    .merge(ordersBCummulative, left_on='date', right_on='date', how='left')\n",
        "    .merge(visitorsADaily, left_on='date', right_on='date', how='left')\n",
        "    .merge(visitorsBDaily, left_on='date', right_on='date', how='left')\n",
        "    .merge(visitorsACummulative, left_on='date', right_on='date', how='left')\n",
        "    .merge(visitorsBCummulative, left_on='date', right_on='date', how='left')\n",
        ")\n",
        "\n",
        "ordersByUsersA = (\n",
        "    orders[orders['group'] == 'A']\n",
        "    .groupby('visitor_id', as_index=False)\n",
        "    .agg({'transaction_id': pd.Series.nunique})\n",
        ")\n",
        "ordersByUsersA.columns = ['userId', 'orders']\n",
        "\n",
        "ordersByUsersB = (\n",
        "    orders[orders['group'] == 'B']\n",
        "    .groupby('visitor_id', as_index=False)\n",
        "    .agg({'transaction_id': pd.Series.nunique})\n",
        ")\n",
        "ordersByUsersB.columns = ['userId', 'orders']\n",
        "\n",
        "sampleA = pd.concat(\n",
        "    [\n",
        "        ordersByUsersA['orders'],\n",
        "        pd.Series(\n",
        "            0,\n",
        "            index=np.arange(\n",
        "                data['visitorsPerDateA'].sum() - len(ordersByUsersA['orders'])\n",
        "            ),\n",
        "            name='orders',\n",
        "        ),\n",
        "    ],\n",
        "    axis=0,\n",
        ")\n",
        "\n",
        "sampleB = pd.concat(\n",
        "    [\n",
        "        ordersByUsersB['orders'],\n",
        "        pd.Series(\n",
        "            0,\n",
        "            index=np.arange(\n",
        "                data['visitorsPerDateB'].sum() - len(ordersByUsersB['orders'])\n",
        "            ),\n",
        "            name='orders',\n",
        "        ),\n",
        "    ],\n",
        "    axis=0,\n",
        ")\n",
        "alpha = 0.05 #Статистический уровень значимости\n",
        "\n",
        "print(\"{0:.5f}\".format(stats.mannwhitneyu(sampleA, sampleB)[1]))\n",
        "\n",
        "print(\"{0:.5f}\".format(sampleB.mean() / sampleA.mean() - 1))"
      ]
    },
    {
      "cell_type": "markdown",
      "metadata": {
        "id": "bPXJCXhOFV1M"
      },
      "source": [
        "Вывод: По «сырым» данным различия в среднем числе заказов групп A и B есть. \n",
        "Первое число — p-value = 0.01102 меньше 0.05. Значит, нулевую гипотезу о том, что статистически значимых различий в среднем числе заказов между группами нет, отвергаем. Относительный выигрыш группы B равен 15.9% — второе число в выводе."
      ]
    },
    {
      "cell_type": "markdown",
      "metadata": {
        "id": "ZG53GXhSFV1M"
      },
      "source": [
        "**Теперь проверим статистическую значимость различий в среднем чеке между сегментами. Нулевая гипотеза: различий в среднем чеке между группами нет. Альтернативная гипотеза: различия в среднем чеке между группами есть. \n",
        "Чтобы рассчитать статистическую значимость различий в среднем чеке, передадим критерию mannwhitneyu() данные о выручке с заказов. \n",
        "А ещё найдём относительные различия в среднем чеке между группами:**"
      ]
    },
    {
      "cell_type": "code",
      "execution_count": null,
      "metadata": {
        "colab": {
          "base_uri": "https://localhost:8080/"
        },
        "id": "2objmp_aFV1N",
        "outputId": "fed369c6-73a1-42ac-edf0-9828a3946a3e"
      },
      "outputs": [
        {
          "output_type": "stream",
          "name": "stdout",
          "text": [
            "0.829\n",
            "0.287\n"
          ]
        }
      ],
      "source": [
        "alpha = 0.05 #Статистический уровень значимости\n",
        "print('{0:.3f}'.format(stats.mannwhitneyu(orders[orders['group']=='A']['revenue'], orders[orders['group']=='B']['revenue'])[1]))\n",
        "print('{0:.3f}'.format(orders[orders['group']=='B']['revenue'].mean()/orders[orders['group']=='A']['revenue'].mean()-1)) "
      ]
    },
    {
      "cell_type": "markdown",
      "metadata": {
        "id": "88G1tQmJFV1N"
      },
      "source": [
        "Вывод: P-value значительно больше 0.05. Значит, причин отвергать нулевую гипотезу и считать, что в среднем чеке есть различия, нет. Однако средний чек группы B выше среднего чека группы A примено на 28,7%"
      ]
    },
    {
      "cell_type": "markdown",
      "metadata": {
        "id": "WswSob5UFV1O"
      },
      "source": [
        "\n",
        "**Теперь посчитаем статистическую значимость различий в среднем количестве заказов на посетителя между группами по «очищенным» данным. Также сформулируем гипотезы. Нулевая: различий в среднем количестве заказов между группами нет. Альтернативная: различия в среднем между группами есть**\n",
        "\n",
        "\n",
        "Примем за аномальных пользователей тех, кто совершил от 2 заказов или совершил заказ дороже 26785 рублей. Так мы уберём 5% пользователей с наибольшим числом заказов и  5% пользователей с дорогими заказами. Сделаем срезы пользователей с числом заказов больше 2 — usersWithManyOrders и пользователей, совершивших заказы дороже 26785 — usersWithExpensiveOrders. Объединим их в таблице abnormalUsers. \n",
        "Узнаем, сколько всего аномальных пользователей атрибутом shape"
      ]
    },
    {
      "cell_type": "code",
      "execution_count": null,
      "metadata": {
        "colab": {
          "base_uri": "https://localhost:8080/"
        },
        "id": "D3dvj9-_FV1O",
        "outputId": "c1d0be99-257d-4d29-839d-479bf16ba920"
      },
      "outputs": [
        {
          "output_type": "execute_result",
          "data": {
            "text/plain": [
              "58"
            ]
          },
          "metadata": {},
          "execution_count": 38
        }
      ],
      "source": [
        "usersWithManyOrders = pd.concat(\n",
        "    [\n",
        "        ordersByUsersA[ordersByUsersA['orders'] > 2]['userId'],\n",
        "        ordersByUsersB[ordersByUsersB['orders'] > 2]['userId'],\n",
        "    ],\n",
        "    axis=0,\n",
        ")\n",
        "usersWithExpensiveOrders = orders[orders['revenue'] > 26785]['transaction_id']\n",
        "abnormalUsers = (\n",
        "    pd.concat([usersWithManyOrders, usersWithExpensiveOrders], axis=0)\n",
        "    .drop_duplicates()\n",
        "    .sort_values()\n",
        ")\n",
        "\n",
        "abnormalUsers.shape[0]"
      ]
    },
    {
      "cell_type": "markdown",
      "metadata": {
        "id": "0Romw-AyFV1P"
      },
      "source": [
        "Получилось 58 аномальных пользователей. \n",
        "Узнаем, как их действия повлияли на результаты теста. Посчитаем статистическую значимость различий в среднем количестве заказов между группами теста по очищенным данным. \n",
        "Сначала подготовим выборки количества заказов по пользователям по группам теста:"
      ]
    },
    {
      "cell_type": "code",
      "execution_count": null,
      "metadata": {
        "id": "Tbm-9mZqFV1P"
      },
      "outputs": [],
      "source": [
        "sampleAFiltered = pd.concat(\n",
        "    [\n",
        "        ordersByUsersA[\n",
        "            np.logical_not(ordersByUsersA['userId'].isin(abnormalUsers))\n",
        "        ]['orders'],\n",
        "        pd.Series(\n",
        "            0,\n",
        "            index=np.arange(\n",
        "                data['visitorsPerDateA'].sum() - len(ordersByUsersA['orders'])\n",
        "            ),\n",
        "            name='orders',\n",
        "        ),\n",
        "    ],\n",
        "    axis=0,\n",
        ")\n",
        "\n",
        "sampleBFiltered = pd.concat(\n",
        "    [\n",
        "        ordersByUsersB[\n",
        "            np.logical_not(ordersByUsersB['userId'].isin(abnormalUsers))\n",
        "        ]['orders'],\n",
        "        pd.Series(\n",
        "            0,\n",
        "            index=np.arange(\n",
        "                data['visitorsPerDateB'].sum() - len(ordersByUsersB['orders'])\n",
        "            ),\n",
        "            name='orders',\n",
        "        ),\n",
        "    ],\n",
        "    axis=0,\n",
        ") "
      ]
    },
    {
      "cell_type": "markdown",
      "metadata": {
        "id": "Voc0DVY8FV1Q"
      },
      "source": [
        "Применим статистический критерий Манна-Уитни к полученным выборкам:"
      ]
    },
    {
      "cell_type": "code",
      "execution_count": null,
      "metadata": {
        "colab": {
          "base_uri": "https://localhost:8080/"
        },
        "id": "C-c9i1L3FV1Q",
        "outputId": "9611db82-c571-45f6-a541-5ad41d5ebe19"
      },
      "outputs": [
        {
          "output_type": "stream",
          "name": "stdout",
          "text": [
            "0.008\n",
            "0.185\n"
          ]
        }
      ],
      "source": [
        "alpha = 0.05\n",
        "print('{0:.3f}'.format(stats.mannwhitneyu(sampleAFiltered, sampleBFiltered)[1]))\n",
        "print('{0:.3f}'.format(sampleBFiltered.mean()/sampleAFiltered.mean()-1)) "
      ]
    },
    {
      "cell_type": "markdown",
      "metadata": {
        "id": "KjWqTBg-FV1R"
      },
      "source": [
        "По сравнению с результатами теста по \"сырым данным\"  - 0.011 и 0.159 соответственно,  изменения есть,  но они не меняют предыдущих  выводов: статистически значимые различия в среднем числе заказов между группами есть. Относительный выигрыш группы B увеличился до  18,5%.\n",
        "\n",
        "**По аналогии проанализируем изменения по среднему чеку на основе очищенных данных. Сформулируем гипотезы. Нулевая гипотеза: различий в среднем чеке между группами нет. Альтернативная гипотеза: различия в среднем чеке между группами есть**"
      ]
    },
    {
      "cell_type": "code",
      "execution_count": null,
      "metadata": {
        "colab": {
          "base_uri": "https://localhost:8080/"
        },
        "id": "YqFOEmYRFV1R",
        "outputId": "0f7e94f2-b4ab-4915-aae5-08988ece8c44"
      },
      "outputs": [
        {
          "output_type": "stream",
          "name": "stdout",
          "text": [
            "0.716\n",
            "0.287\n"
          ]
        }
      ],
      "source": [
        "print(\n",
        "    '{0:.3f}'.format(\n",
        "        stats.mannwhitneyu(\n",
        "            orders[\n",
        "                np.logical_and(\n",
        "                    orders['group'] == 'A',\n",
        "                    np.logical_not(orders['visitor_id'].isin(abnormalUsers)),\n",
        "                )\n",
        "            ]['revenue'],\n",
        "            orders[\n",
        "                np.logical_and(\n",
        "                    orders['group'] == 'B',\n",
        "                    np.logical_not(orders['visitor_id'].isin(abnormalUsers)),\n",
        "                )\n",
        "            ]['revenue'],\n",
        "        )[1]\n",
        "    )\n",
        ")\n",
        "\n",
        "print(\n",
        "    \"{0:.3f}\".format(\n",
        "        orders[\n",
        "            np.logical_and(\n",
        "                orders['group'] == 'B',\n",
        "                np.logical_not(orders['visitor_id'].isin(abnormalUsers)),\n",
        "            )\n",
        "        ]['revenue'].mean()\n",
        "        / orders[\n",
        "            np.logical_and(\n",
        "                orders['group'] == 'A',\n",
        "                np.logical_not(orders['visitor_id'].isin(abnormalUsers)),\n",
        "            )\n",
        "        ]['revenue'].mean()\n",
        "        - 1\n",
        "    )\n",
        ") "
      ]
    },
    {
      "cell_type": "markdown",
      "metadata": {
        "id": "O7--3exeFV1S"
      },
      "source": [
        "По сравнению с результатами теста по \"сырым данным\" - 0.829 и 0.287 соответственно, изменения есть, но они также не меняют предыдущих выводов: причин отвергать нулевую гипотезу и считать, что в среднем чеке есть различия между группами, нет. После очистки данных средний чек группы B  стал выше среднего чека группы A примено на 28,7%, что также является высоким показателем."
      ]
    },
    {
      "cell_type": "markdown",
      "metadata": {
        "id": "fTaoczweFV1U"
      },
      "source": [
        "### Выводы по результатам теста"
      ]
    },
    {
      "cell_type": "markdown",
      "metadata": {
        "id": "ptXeKY_RFV1V"
      },
      "source": [
        "В данном исследовании рассматривался список гипотез для увеличения выручки крупного интернет-магазина. Основными задачами исследования являлись : приоритизация гипотез, запуск A/B-теста и анализ его результатов\n",
        "\n",
        "1. Приоритизация гипотез. С учетом параметра reach (скольких пользователей затронет изменение, которое мы хотим внести) наибольший приоритет имеют гипотезы № 7,2,0 и 6, а самый низкий приоритет - снова гипотеза №4. Самой важной гипотезой с учетом охвата аудитории оказалась гипотеза №7. Параметр охвата аудитории является одним из самых важных, т.к. чем больше аудитория, на которую может повлять гипотеза, тем больше вероятность увеличения выручки интернет-магазина, что является основной целью данного исследования, поэтому на проверке гипотезы №7 стоит остановиться в первую очередь;\n",
        "2. Промежуточные результаты А/В-теста:\n",
        "- Выручка увеличивается в течение всего теста в обоих группах. Выручка группы А растет более плавно. Согласно данным графиков, **практически все время исследования (с 1 по 31 августа) выручка группы В была выше выручки группы А**. До 5 августа группы показывали схожую динамику выручки. Одинаковые значения наблюдаются только 5 и 13 августа. 18 августа произошел резкий рост выручки группы В, который продолжился и далее\n",
        "- **График среднего чека группы В показывает лучшую динамику роста, чем график среднего чека группы А**. За все время теста только несколько дней (предположительно 1, 11,12,13 и 14 августа) средний чек группы А превышал средний чек группы В. После 13 августа средний чек группы А остается примерно на том же уровне. В группе В снова наблюдается резкий рост 18 августа\n",
        "- В начале теста обе группы демонстрировали схожую динамику изменения среднего количества заказов, причем группа А лидировала на протяжении 4 дней теста. Однако 6 августа произошел резкий рост кумулятивного среднего количества заказов на посетителя в группе В при аналогичном падении в группе А, после чего графики постепенно выравниваются на уровне 0,029 (группа В) и 0,025 (группа А) и **группа В значительно опережает группу А до конца теста**\n",
        "- Согласно посчитанным параметрам статистической значимости различий в среднем количестве заказов и среднем чеке на посетителя между группами по «сырым» и очищенным» данным было установлено, что: \n",
        "\n",
        "а) статистически значимые различия в среднем числе заказов между группами есть. **Относительный выигрыш группы B по этому показателю составляет 18,5%**\n",
        "\n",
        "б)  в среднем чеке различий между группами нет. После очистки данных **средний чек группы B стал выше среднего чека группы A примено на 28,7%**, что также является высоким показателем.\n",
        "\n",
        "\n",
        "***По итогам вышеизложенного результаты тестирования вполне однозначны. Можно принять решение остановить тестирование и констатировать  победу группы B : группа B значительно эффективнее группы A практически по всем показателям***"
      ]
    },
    {
      "cell_type": "code",
      "execution_count": null,
      "metadata": {
        "id": "Xji3BSAPFV1X"
      },
      "outputs": [],
      "source": []
    }
  ],
  "metadata": {
    "ExecuteTimeLog": [
      {
        "duration": 1228,
        "start_time": "2023-04-29T06:14:47.147Z"
      },
      {
        "duration": 74,
        "start_time": "2023-04-29T06:15:36.520Z"
      },
      {
        "duration": 77,
        "start_time": "2023-04-29T06:15:46.426Z"
      },
      {
        "duration": 75,
        "start_time": "2023-04-29T06:16:08.845Z"
      },
      {
        "duration": 29,
        "start_time": "2023-04-29T06:16:44.630Z"
      },
      {
        "duration": 32,
        "start_time": "2023-04-29T06:17:37.996Z"
      },
      {
        "duration": 36,
        "start_time": "2023-04-29T06:17:51.250Z"
      },
      {
        "duration": 8,
        "start_time": "2023-04-29T06:27:18.209Z"
      },
      {
        "duration": 7,
        "start_time": "2023-04-29T06:37:24.753Z"
      },
      {
        "duration": 17,
        "start_time": "2023-04-29T06:37:28.875Z"
      },
      {
        "duration": 12,
        "start_time": "2023-04-29T06:38:11.014Z"
      },
      {
        "duration": 75,
        "start_time": "2023-04-29T06:41:52.395Z"
      },
      {
        "duration": 11,
        "start_time": "2023-04-29T06:42:41.531Z"
      },
      {
        "duration": 11,
        "start_time": "2023-04-29T06:47:55.810Z"
      },
      {
        "duration": 36,
        "start_time": "2023-04-29T07:07:08.716Z"
      },
      {
        "duration": 89,
        "start_time": "2023-04-29T07:08:06.008Z"
      },
      {
        "duration": 65,
        "start_time": "2023-04-29T07:08:24.114Z"
      },
      {
        "duration": 61,
        "start_time": "2023-04-29T07:08:44.198Z"
      },
      {
        "duration": 85,
        "start_time": "2023-04-29T07:10:27.800Z"
      },
      {
        "duration": 5,
        "start_time": "2023-04-29T07:14:14.055Z"
      },
      {
        "duration": 3,
        "start_time": "2023-04-29T07:14:53.833Z"
      },
      {
        "duration": 37,
        "start_time": "2023-04-29T07:14:54.795Z"
      },
      {
        "duration": 7,
        "start_time": "2023-04-29T07:14:56.308Z"
      },
      {
        "duration": 12,
        "start_time": "2023-04-29T07:14:57.824Z"
      },
      {
        "duration": 10,
        "start_time": "2023-04-29T07:14:59.147Z"
      },
      {
        "duration": 19,
        "start_time": "2023-04-29T07:15:01.439Z"
      },
      {
        "duration": 57,
        "start_time": "2023-04-29T07:15:03.619Z"
      },
      {
        "duration": 26,
        "start_time": "2023-04-29T07:15:04.545Z"
      },
      {
        "duration": 89,
        "start_time": "2023-04-29T07:18:51.029Z"
      },
      {
        "duration": 343,
        "start_time": "2023-04-29T07:19:34.681Z"
      },
      {
        "duration": 37,
        "start_time": "2023-04-29T07:19:57.800Z"
      },
      {
        "duration": 56,
        "start_time": "2023-04-29T07:20:09.553Z"
      },
      {
        "duration": 300,
        "start_time": "2023-04-29T07:20:24.891Z"
      },
      {
        "duration": 824,
        "start_time": "2023-04-29T07:20:39.289Z"
      },
      {
        "duration": 43,
        "start_time": "2023-04-29T07:20:40.115Z"
      },
      {
        "duration": 9,
        "start_time": "2023-04-29T07:20:40.160Z"
      },
      {
        "duration": 14,
        "start_time": "2023-04-29T07:20:40.171Z"
      },
      {
        "duration": 16,
        "start_time": "2023-04-29T07:20:40.186Z"
      },
      {
        "duration": 10,
        "start_time": "2023-04-29T07:20:40.204Z"
      },
      {
        "duration": 47,
        "start_time": "2023-04-29T07:20:40.215Z"
      },
      {
        "duration": 25,
        "start_time": "2023-04-29T07:20:40.264Z"
      },
      {
        "duration": 389,
        "start_time": "2023-04-29T07:20:40.290Z"
      },
      {
        "duration": 309,
        "start_time": "2023-04-29T07:22:15.120Z"
      },
      {
        "duration": 22,
        "start_time": "2023-04-29T07:22:36.161Z"
      },
      {
        "duration": 304,
        "start_time": "2023-04-29T07:22:52.785Z"
      },
      {
        "duration": 306,
        "start_time": "2023-04-29T07:23:11.648Z"
      },
      {
        "duration": 11,
        "start_time": "2023-04-29T07:25:24.440Z"
      },
      {
        "duration": 9,
        "start_time": "2023-04-29T07:25:50.228Z"
      },
      {
        "duration": 10,
        "start_time": "2023-04-29T07:26:09.070Z"
      },
      {
        "duration": 9,
        "start_time": "2023-04-29T07:27:45.952Z"
      },
      {
        "duration": 3,
        "start_time": "2023-04-29T07:27:51.235Z"
      },
      {
        "duration": 37,
        "start_time": "2023-04-29T07:27:51.240Z"
      },
      {
        "duration": 8,
        "start_time": "2023-04-29T07:27:51.278Z"
      },
      {
        "duration": 14,
        "start_time": "2023-04-29T07:27:51.287Z"
      },
      {
        "duration": 13,
        "start_time": "2023-04-29T07:27:51.303Z"
      },
      {
        "duration": 11,
        "start_time": "2023-04-29T07:27:51.318Z"
      },
      {
        "duration": 60,
        "start_time": "2023-04-29T07:27:51.330Z"
      },
      {
        "duration": 27,
        "start_time": "2023-04-29T07:27:51.391Z"
      },
      {
        "duration": 10,
        "start_time": "2023-04-29T07:27:51.419Z"
      },
      {
        "duration": 8,
        "start_time": "2023-04-29T07:28:08.662Z"
      },
      {
        "duration": 179,
        "start_time": "2023-04-29T07:29:06.240Z"
      },
      {
        "duration": 10,
        "start_time": "2023-04-29T07:30:13.735Z"
      },
      {
        "duration": 330,
        "start_time": "2023-04-29T07:30:37.788Z"
      },
      {
        "duration": 285,
        "start_time": "2023-04-29T07:30:48.951Z"
      },
      {
        "duration": 351,
        "start_time": "2023-04-29T07:31:35.969Z"
      },
      {
        "duration": 3,
        "start_time": "2023-04-29T07:31:43.069Z"
      },
      {
        "duration": 40,
        "start_time": "2023-04-29T07:31:43.074Z"
      },
      {
        "duration": 7,
        "start_time": "2023-04-29T07:31:43.115Z"
      },
      {
        "duration": 23,
        "start_time": "2023-04-29T07:31:43.123Z"
      },
      {
        "duration": 21,
        "start_time": "2023-04-29T07:31:43.148Z"
      },
      {
        "duration": 11,
        "start_time": "2023-04-29T07:31:43.171Z"
      },
      {
        "duration": 52,
        "start_time": "2023-04-29T07:31:43.184Z"
      },
      {
        "duration": 23,
        "start_time": "2023-04-29T07:31:43.237Z"
      },
      {
        "duration": 10,
        "start_time": "2023-04-29T07:31:43.261Z"
      },
      {
        "duration": 322,
        "start_time": "2023-04-29T07:31:50.766Z"
      },
      {
        "duration": 832,
        "start_time": "2023-04-29T07:33:01.185Z"
      },
      {
        "duration": 42,
        "start_time": "2023-04-29T07:33:02.019Z"
      },
      {
        "duration": 26,
        "start_time": "2023-04-29T07:33:02.063Z"
      },
      {
        "duration": 18,
        "start_time": "2023-04-29T07:33:02.092Z"
      },
      {
        "duration": 35,
        "start_time": "2023-04-29T07:33:02.111Z"
      },
      {
        "duration": 42,
        "start_time": "2023-04-29T07:33:02.148Z"
      },
      {
        "duration": 56,
        "start_time": "2023-04-29T07:33:02.191Z"
      },
      {
        "duration": 24,
        "start_time": "2023-04-29T07:33:02.249Z"
      },
      {
        "duration": 11,
        "start_time": "2023-04-29T07:33:02.275Z"
      },
      {
        "duration": 413,
        "start_time": "2023-04-29T07:33:27.559Z"
      },
      {
        "duration": 4,
        "start_time": "2023-04-29T07:35:14.365Z"
      },
      {
        "duration": 353,
        "start_time": "2023-04-29T07:35:27.455Z"
      },
      {
        "duration": 35,
        "start_time": "2023-04-29T07:36:38.845Z"
      },
      {
        "duration": 6,
        "start_time": "2023-04-29T07:38:38.523Z"
      },
      {
        "duration": 14,
        "start_time": "2023-04-29T07:38:48.749Z"
      },
      {
        "duration": 13,
        "start_time": "2023-04-29T07:38:55.441Z"
      },
      {
        "duration": 6,
        "start_time": "2023-04-29T07:39:26.242Z"
      },
      {
        "duration": 4,
        "start_time": "2023-04-29T07:41:42.801Z"
      },
      {
        "duration": 12,
        "start_time": "2023-04-29T07:41:55.346Z"
      },
      {
        "duration": 6,
        "start_time": "2023-04-29T07:43:55.789Z"
      },
      {
        "duration": 3,
        "start_time": "2023-04-29T07:43:57.470Z"
      },
      {
        "duration": 6,
        "start_time": "2023-04-29T07:44:57.669Z"
      },
      {
        "duration": 9,
        "start_time": "2023-04-29T07:45:40.733Z"
      },
      {
        "duration": 6,
        "start_time": "2023-04-29T07:46:27.772Z"
      },
      {
        "duration": 9,
        "start_time": "2023-04-29T07:46:57.955Z"
      },
      {
        "duration": 9,
        "start_time": "2023-04-29T07:47:10.262Z"
      },
      {
        "duration": 17,
        "start_time": "2023-04-29T07:49:40.974Z"
      },
      {
        "duration": 17,
        "start_time": "2023-04-29T07:50:49.613Z"
      },
      {
        "duration": 8,
        "start_time": "2023-04-29T07:58:12.702Z"
      },
      {
        "duration": 27,
        "start_time": "2023-04-29T08:00:17.895Z"
      },
      {
        "duration": 25,
        "start_time": "2023-04-29T08:00:58.138Z"
      },
      {
        "duration": 298,
        "start_time": "2023-04-29T08:02:00.708Z"
      },
      {
        "duration": 259,
        "start_time": "2023-04-29T08:10:07.315Z"
      },
      {
        "duration": 254,
        "start_time": "2023-04-29T08:10:39.115Z"
      },
      {
        "duration": 254,
        "start_time": "2023-04-29T08:10:45.245Z"
      },
      {
        "duration": 268,
        "start_time": "2023-04-29T08:10:54.611Z"
      },
      {
        "duration": 246,
        "start_time": "2023-04-29T08:11:08.919Z"
      },
      {
        "duration": 264,
        "start_time": "2023-04-29T08:16:46.147Z"
      },
      {
        "duration": 233,
        "start_time": "2023-04-29T08:17:13.388Z"
      },
      {
        "duration": 36,
        "start_time": "2023-04-29T08:17:13.870Z"
      },
      {
        "duration": 11,
        "start_time": "2023-04-29T08:17:14.224Z"
      },
      {
        "duration": 15,
        "start_time": "2023-04-29T08:17:14.531Z"
      },
      {
        "duration": 12,
        "start_time": "2023-04-29T08:17:14.823Z"
      },
      {
        "duration": 10,
        "start_time": "2023-04-29T08:17:15.280Z"
      },
      {
        "duration": 56,
        "start_time": "2023-04-29T08:17:15.746Z"
      },
      {
        "duration": 24,
        "start_time": "2023-04-29T08:17:15.888Z"
      },
      {
        "duration": 6,
        "start_time": "2023-04-29T08:17:16.208Z"
      },
      {
        "duration": 3,
        "start_time": "2023-04-29T08:17:16.560Z"
      },
      {
        "duration": 11,
        "start_time": "2023-04-29T08:17:17.144Z"
      },
      {
        "duration": 10,
        "start_time": "2023-04-29T08:17:17.459Z"
      },
      {
        "duration": 20,
        "start_time": "2023-04-29T08:17:17.777Z"
      },
      {
        "duration": 470,
        "start_time": "2023-04-29T08:17:18.432Z"
      },
      {
        "duration": 451,
        "start_time": "2023-04-29T08:17:28.123Z"
      },
      {
        "duration": 469,
        "start_time": "2023-04-29T08:21:16.094Z"
      },
      {
        "duration": 437,
        "start_time": "2023-04-29T08:21:25.168Z"
      },
      {
        "duration": 486,
        "start_time": "2023-04-29T08:22:03.383Z"
      },
      {
        "duration": 464,
        "start_time": "2023-04-29T08:22:16.288Z"
      },
      {
        "duration": 452,
        "start_time": "2023-04-29T08:23:03.080Z"
      },
      {
        "duration": 452,
        "start_time": "2023-04-29T08:23:47.609Z"
      },
      {
        "duration": 443,
        "start_time": "2023-04-29T08:24:26.200Z"
      },
      {
        "duration": 393,
        "start_time": "2023-04-29T08:24:42.061Z"
      },
      {
        "duration": 451,
        "start_time": "2023-04-29T08:24:57.002Z"
      },
      {
        "duration": 261,
        "start_time": "2023-04-29T08:25:08.989Z"
      },
      {
        "duration": 445,
        "start_time": "2023-04-29T08:25:21.301Z"
      },
      {
        "duration": 284,
        "start_time": "2023-04-29T08:26:04.946Z"
      },
      {
        "duration": 432,
        "start_time": "2023-04-29T08:26:22.344Z"
      },
      {
        "duration": 485,
        "start_time": "2023-04-29T08:27:13.230Z"
      },
      {
        "duration": 494,
        "start_time": "2023-04-29T08:27:59.387Z"
      },
      {
        "duration": 279,
        "start_time": "2023-04-29T08:41:14.188Z"
      },
      {
        "duration": 171,
        "start_time": "2023-04-29T08:41:29.037Z"
      },
      {
        "duration": 220,
        "start_time": "2023-04-29T08:42:27.944Z"
      },
      {
        "duration": 231,
        "start_time": "2023-04-29T08:50:58.439Z"
      },
      {
        "duration": 275,
        "start_time": "2023-04-29T08:51:32.801Z"
      },
      {
        "duration": 325,
        "start_time": "2023-04-29T08:53:03.869Z"
      },
      {
        "duration": 292,
        "start_time": "2023-04-29T08:54:09.465Z"
      },
      {
        "duration": 295,
        "start_time": "2023-04-29T08:56:10.956Z"
      },
      {
        "duration": 280,
        "start_time": "2023-04-29T08:56:22.223Z"
      },
      {
        "duration": 357,
        "start_time": "2023-04-29T08:56:44.185Z"
      },
      {
        "duration": 53,
        "start_time": "2023-04-30T05:17:13.053Z"
      },
      {
        "duration": 1293,
        "start_time": "2023-04-30T05:17:18.138Z"
      },
      {
        "duration": 160,
        "start_time": "2023-04-30T05:17:19.437Z"
      },
      {
        "duration": 8,
        "start_time": "2023-04-30T05:17:19.599Z"
      },
      {
        "duration": 24,
        "start_time": "2023-04-30T05:17:19.613Z"
      },
      {
        "duration": 22,
        "start_time": "2023-04-30T05:17:19.640Z"
      },
      {
        "duration": 11,
        "start_time": "2023-04-30T05:17:19.664Z"
      },
      {
        "duration": 100,
        "start_time": "2023-04-30T05:17:19.677Z"
      },
      {
        "duration": 89,
        "start_time": "2023-04-30T05:17:19.779Z"
      },
      {
        "duration": 6,
        "start_time": "2023-04-30T05:17:19.870Z"
      },
      {
        "duration": 5,
        "start_time": "2023-04-30T05:17:19.877Z"
      },
      {
        "duration": 9,
        "start_time": "2023-04-30T05:17:19.884Z"
      },
      {
        "duration": 8,
        "start_time": "2023-04-30T05:17:19.895Z"
      },
      {
        "duration": 23,
        "start_time": "2023-04-30T05:17:19.905Z"
      },
      {
        "duration": 618,
        "start_time": "2023-04-30T05:17:19.935Z"
      },
      {
        "duration": 251,
        "start_time": "2023-04-30T05:17:20.554Z"
      },
      {
        "duration": 381,
        "start_time": "2023-04-30T05:17:20.807Z"
      },
      {
        "duration": 9,
        "start_time": "2023-04-30T05:17:21.189Z"
      },
      {
        "duration": 10,
        "start_time": "2023-04-30T05:17:39.038Z"
      },
      {
        "duration": 12,
        "start_time": "2023-04-30T05:19:58.068Z"
      },
      {
        "duration": 1497,
        "start_time": "2023-04-30T05:28:24.154Z"
      },
      {
        "duration": 211,
        "start_time": "2023-04-30T05:28:45.547Z"
      },
      {
        "duration": 232,
        "start_time": "2023-04-30T05:29:08.072Z"
      },
      {
        "duration": 307,
        "start_time": "2023-04-30T05:30:58.968Z"
      },
      {
        "duration": 325,
        "start_time": "2023-04-30T05:34:37.644Z"
      },
      {
        "duration": 260,
        "start_time": "2023-04-30T05:35:19.738Z"
      },
      {
        "duration": 295,
        "start_time": "2023-04-30T05:35:32.638Z"
      },
      {
        "duration": 399,
        "start_time": "2023-04-30T05:44:45.765Z"
      },
      {
        "duration": 358,
        "start_time": "2023-04-30T05:45:12.310Z"
      },
      {
        "duration": 346,
        "start_time": "2023-04-30T05:46:01.620Z"
      },
      {
        "duration": 348,
        "start_time": "2023-04-30T05:46:47.460Z"
      },
      {
        "duration": 332,
        "start_time": "2023-04-30T05:47:31.352Z"
      },
      {
        "duration": 384,
        "start_time": "2023-04-30T05:48:22.582Z"
      },
      {
        "duration": 1974,
        "start_time": "2023-04-30T05:57:35.332Z"
      },
      {
        "duration": 178,
        "start_time": "2023-04-30T05:58:12.103Z"
      },
      {
        "duration": 216,
        "start_time": "2023-04-30T05:59:50.069Z"
      },
      {
        "duration": 332,
        "start_time": "2023-04-30T05:59:58.506Z"
      },
      {
        "duration": 154,
        "start_time": "2023-04-30T06:00:08.068Z"
      },
      {
        "duration": 275,
        "start_time": "2023-04-30T06:01:27.280Z"
      },
      {
        "duration": 189,
        "start_time": "2023-04-30T06:02:13.368Z"
      },
      {
        "duration": 186,
        "start_time": "2023-04-30T06:02:36.737Z"
      },
      {
        "duration": 234,
        "start_time": "2023-04-30T06:03:29.157Z"
      },
      {
        "duration": 202,
        "start_time": "2023-04-30T06:03:35.037Z"
      },
      {
        "duration": 28,
        "start_time": "2023-04-30T06:06:23.337Z"
      },
      {
        "duration": 23,
        "start_time": "2023-04-30T06:07:42.741Z"
      },
      {
        "duration": 17,
        "start_time": "2023-04-30T06:07:50.248Z"
      },
      {
        "duration": 19,
        "start_time": "2023-04-30T06:08:38.100Z"
      },
      {
        "duration": 15,
        "start_time": "2023-04-30T06:09:20.736Z"
      },
      {
        "duration": 23,
        "start_time": "2023-04-30T06:09:28.836Z"
      },
      {
        "duration": 23,
        "start_time": "2023-04-30T06:10:08.853Z"
      },
      {
        "duration": 12,
        "start_time": "2023-04-30T06:11:02.996Z"
      },
      {
        "duration": 192,
        "start_time": "2023-04-30T06:11:39.697Z"
      },
      {
        "duration": 167,
        "start_time": "2023-04-30T06:11:46.993Z"
      },
      {
        "duration": 193,
        "start_time": "2023-04-30T06:12:23.973Z"
      },
      {
        "duration": 292,
        "start_time": "2023-04-30T06:12:48.852Z"
      },
      {
        "duration": 237,
        "start_time": "2023-04-30T06:14:47.224Z"
      },
      {
        "duration": 221,
        "start_time": "2023-04-30T06:14:59.552Z"
      },
      {
        "duration": 240,
        "start_time": "2023-04-30T06:15:03.061Z"
      },
      {
        "duration": 378,
        "start_time": "2023-04-30T06:15:09.373Z"
      },
      {
        "duration": 244,
        "start_time": "2023-04-30T06:16:12.213Z"
      },
      {
        "duration": 253,
        "start_time": "2023-04-30T06:18:32.252Z"
      },
      {
        "duration": 8,
        "start_time": "2023-04-30T06:23:47.385Z"
      },
      {
        "duration": 6,
        "start_time": "2023-04-30T06:24:05.487Z"
      },
      {
        "duration": 195,
        "start_time": "2023-04-30T06:30:31.540Z"
      },
      {
        "duration": 272,
        "start_time": "2023-04-30T06:30:52.731Z"
      },
      {
        "duration": 272,
        "start_time": "2023-04-30T06:31:30.936Z"
      },
      {
        "duration": 10,
        "start_time": "2023-04-30T06:38:08.884Z"
      },
      {
        "duration": 2199,
        "start_time": "2023-04-30T06:48:25.963Z"
      },
      {
        "duration": 218,
        "start_time": "2023-04-30T06:52:48.516Z"
      },
      {
        "duration": 636,
        "start_time": "2023-04-30T06:53:50.911Z"
      },
      {
        "duration": 465,
        "start_time": "2023-04-30T06:57:49.240Z"
      },
      {
        "duration": 44,
        "start_time": "2023-04-30T07:17:00.631Z"
      },
      {
        "duration": 524,
        "start_time": "2023-04-30T07:19:44.730Z"
      },
      {
        "duration": 28,
        "start_time": "2023-04-30T07:19:54.940Z"
      },
      {
        "duration": 3323,
        "start_time": "2023-04-30T07:26:17.747Z"
      },
      {
        "duration": 27,
        "start_time": "2023-04-30T07:26:43.836Z"
      },
      {
        "duration": 40,
        "start_time": "2023-04-30T07:31:49.163Z"
      },
      {
        "duration": 9,
        "start_time": "2023-04-30T07:32:18.456Z"
      },
      {
        "duration": 17,
        "start_time": "2023-04-30T07:33:49.261Z"
      },
      {
        "duration": 48,
        "start_time": "2023-04-30T07:34:25.862Z"
      },
      {
        "duration": 2959,
        "start_time": "2023-04-30T07:40:53.236Z"
      },
      {
        "duration": 243,
        "start_time": "2023-04-30T07:41:33.312Z"
      },
      {
        "duration": 185,
        "start_time": "2023-04-30T07:42:29.463Z"
      },
      {
        "duration": 39,
        "start_time": "2023-04-30T07:43:35.955Z"
      },
      {
        "duration": 1986,
        "start_time": "2023-04-30T08:09:23.596Z"
      },
      {
        "duration": 316,
        "start_time": "2023-04-30T08:09:25.589Z"
      },
      {
        "duration": 22,
        "start_time": "2023-04-30T08:09:25.907Z"
      },
      {
        "duration": 38,
        "start_time": "2023-04-30T08:09:25.935Z"
      },
      {
        "duration": 36,
        "start_time": "2023-04-30T08:09:25.979Z"
      },
      {
        "duration": 21,
        "start_time": "2023-04-30T08:09:26.018Z"
      },
      {
        "duration": 161,
        "start_time": "2023-04-30T08:09:26.041Z"
      },
      {
        "duration": 53,
        "start_time": "2023-04-30T08:09:26.207Z"
      },
      {
        "duration": 15,
        "start_time": "2023-04-30T08:09:26.262Z"
      },
      {
        "duration": 7,
        "start_time": "2023-04-30T08:09:26.284Z"
      },
      {
        "duration": 12,
        "start_time": "2023-04-30T08:09:26.294Z"
      },
      {
        "duration": 23,
        "start_time": "2023-04-30T08:09:26.313Z"
      },
      {
        "duration": 38,
        "start_time": "2023-04-30T08:09:26.342Z"
      },
      {
        "duration": 823,
        "start_time": "2023-04-30T08:09:26.385Z"
      },
      {
        "duration": 309,
        "start_time": "2023-04-30T08:09:27.214Z"
      },
      {
        "duration": 476,
        "start_time": "2023-04-30T08:09:27.529Z"
      },
      {
        "duration": 453,
        "start_time": "2023-04-30T08:09:28.010Z"
      },
      {
        "duration": 603,
        "start_time": "2023-04-30T08:09:28.468Z"
      },
      {
        "duration": 430,
        "start_time": "2023-04-30T08:09:29.077Z"
      },
      {
        "duration": 13,
        "start_time": "2023-04-30T08:09:29.524Z"
      },
      {
        "duration": 384,
        "start_time": "2023-04-30T08:09:29.544Z"
      },
      {
        "duration": 22,
        "start_time": "2023-04-30T08:09:29.938Z"
      },
      {
        "duration": 724,
        "start_time": "2023-04-30T08:09:29.971Z"
      },
      {
        "duration": 37,
        "start_time": "2023-04-30T08:09:30.712Z"
      },
      {
        "duration": 28,
        "start_time": "2023-04-30T08:09:30.759Z"
      },
      {
        "duration": 64,
        "start_time": "2023-04-30T08:09:30.799Z"
      },
      {
        "duration": 81,
        "start_time": "2023-04-30T08:09:30.877Z"
      },
      {
        "duration": 25,
        "start_time": "2023-04-30T08:09:30.967Z"
      },
      {
        "duration": 1115,
        "start_time": "2023-04-30T11:02:58.645Z"
      },
      {
        "duration": 131,
        "start_time": "2023-04-30T11:02:59.762Z"
      },
      {
        "duration": 9,
        "start_time": "2023-04-30T11:02:59.896Z"
      },
      {
        "duration": 14,
        "start_time": "2023-04-30T11:02:59.907Z"
      },
      {
        "duration": 11,
        "start_time": "2023-04-30T11:02:59.923Z"
      },
      {
        "duration": 16,
        "start_time": "2023-04-30T11:02:59.935Z"
      },
      {
        "duration": 71,
        "start_time": "2023-04-30T11:02:59.953Z"
      },
      {
        "duration": 26,
        "start_time": "2023-04-30T11:03:00.026Z"
      },
      {
        "duration": 119,
        "start_time": "2023-04-30T11:03:00.053Z"
      },
      {
        "duration": 198,
        "start_time": "2023-04-30T11:03:00.175Z"
      },
      {
        "duration": 61,
        "start_time": "2023-04-30T11:03:00.375Z"
      },
      {
        "duration": 85,
        "start_time": "2023-04-30T11:03:00.438Z"
      },
      {
        "duration": 99,
        "start_time": "2023-04-30T11:03:00.525Z"
      },
      {
        "duration": 682,
        "start_time": "2023-04-30T11:03:00.626Z"
      },
      {
        "duration": 249,
        "start_time": "2023-04-30T11:03:01.310Z"
      },
      {
        "duration": 375,
        "start_time": "2023-04-30T11:03:01.561Z"
      },
      {
        "duration": 285,
        "start_time": "2023-04-30T11:03:01.938Z"
      },
      {
        "duration": 331,
        "start_time": "2023-04-30T11:03:02.225Z"
      },
      {
        "duration": 185,
        "start_time": "2023-04-30T11:03:02.558Z"
      },
      {
        "duration": 7,
        "start_time": "2023-04-30T11:03:02.744Z"
      },
      {
        "duration": 227,
        "start_time": "2023-04-30T11:03:02.753Z"
      },
      {
        "duration": 11,
        "start_time": "2023-04-30T11:03:02.984Z"
      },
      {
        "duration": 409,
        "start_time": "2023-04-30T11:03:02.996Z"
      },
      {
        "duration": 13,
        "start_time": "2023-04-30T11:03:03.406Z"
      },
      {
        "duration": 31,
        "start_time": "2023-04-30T11:03:03.420Z"
      },
      {
        "duration": 49,
        "start_time": "2023-04-30T11:03:03.453Z"
      },
      {
        "duration": 48,
        "start_time": "2023-04-30T11:03:03.504Z"
      },
      {
        "duration": 14,
        "start_time": "2023-04-30T11:03:03.555Z"
      },
      {
        "duration": 9,
        "start_time": "2023-05-01T06:57:37.868Z"
      },
      {
        "duration": 1092,
        "start_time": "2023-05-01T06:57:52.359Z"
      },
      {
        "duration": 134,
        "start_time": "2023-05-01T06:57:53.453Z"
      },
      {
        "duration": 4,
        "start_time": "2023-05-01T06:57:53.589Z"
      },
      {
        "duration": 2,
        "start_time": "2023-05-01T06:57:58.156Z"
      },
      {
        "duration": 37,
        "start_time": "2023-05-01T06:57:58.965Z"
      },
      {
        "duration": 27,
        "start_time": "2023-05-01T06:58:00.847Z"
      },
      {
        "duration": 35,
        "start_time": "2023-05-01T06:58:20.031Z"
      },
      {
        "duration": 35,
        "start_time": "2023-05-01T07:01:29.418Z"
      },
      {
        "duration": 115,
        "start_time": "2023-05-01T07:01:45.725Z"
      },
      {
        "duration": 37,
        "start_time": "2023-05-01T07:03:06.915Z"
      },
      {
        "duration": 37,
        "start_time": "2023-05-01T07:03:21.144Z"
      },
      {
        "duration": 35,
        "start_time": "2023-05-01T07:06:37.448Z"
      },
      {
        "duration": 36,
        "start_time": "2023-05-01T07:14:23.350Z"
      },
      {
        "duration": 64,
        "start_time": "2023-05-01T07:23:28.700Z"
      },
      {
        "duration": 32,
        "start_time": "2023-05-01T07:30:58.910Z"
      },
      {
        "duration": 36,
        "start_time": "2023-05-01T07:31:16.875Z"
      },
      {
        "duration": 36,
        "start_time": "2023-05-01T07:31:39.925Z"
      },
      {
        "duration": 35,
        "start_time": "2023-05-01T07:31:44.301Z"
      },
      {
        "duration": 7,
        "start_time": "2023-05-01T07:32:33.164Z"
      },
      {
        "duration": 15,
        "start_time": "2023-05-01T07:32:35.031Z"
      },
      {
        "duration": 11,
        "start_time": "2023-05-01T07:32:36.850Z"
      },
      {
        "duration": 9,
        "start_time": "2023-05-01T07:32:43.764Z"
      },
      {
        "duration": 87,
        "start_time": "2023-05-01T07:33:15.103Z"
      },
      {
        "duration": 5,
        "start_time": "2023-05-01T07:33:15.737Z"
      },
      {
        "duration": 36,
        "start_time": "2023-05-01T07:33:29.465Z"
      },
      {
        "duration": 5,
        "start_time": "2023-05-01T07:33:30.215Z"
      },
      {
        "duration": 6,
        "start_time": "2023-05-01T07:33:32.070Z"
      },
      {
        "duration": 10,
        "start_time": "2023-05-01T07:40:17.508Z"
      },
      {
        "duration": 6,
        "start_time": "2023-05-01T07:41:17.773Z"
      },
      {
        "duration": 5,
        "start_time": "2023-05-01T07:41:35.031Z"
      },
      {
        "duration": 7,
        "start_time": "2023-05-01T07:41:59.703Z"
      },
      {
        "duration": 6,
        "start_time": "2023-05-01T07:43:41.554Z"
      },
      {
        "duration": 6,
        "start_time": "2023-05-01T07:47:23.030Z"
      },
      {
        "duration": 6,
        "start_time": "2023-05-01T07:48:59.739Z"
      },
      {
        "duration": 7,
        "start_time": "2023-05-01T07:49:26.824Z"
      },
      {
        "duration": 7,
        "start_time": "2023-05-01T07:49:40.368Z"
      },
      {
        "duration": 4,
        "start_time": "2023-05-01T07:49:49.856Z"
      },
      {
        "duration": 12,
        "start_time": "2023-05-01T08:10:24.855Z"
      },
      {
        "duration": 4,
        "start_time": "2023-05-01T08:10:49.341Z"
      },
      {
        "duration": 1125,
        "start_time": "2023-05-01T08:13:27.828Z"
      },
      {
        "duration": 1100,
        "start_time": "2023-05-01T08:13:43.842Z"
      },
      {
        "duration": 6,
        "start_time": "2023-05-01T08:14:27.993Z"
      },
      {
        "duration": 4,
        "start_time": "2023-05-01T08:14:29.152Z"
      },
      {
        "duration": 8,
        "start_time": "2023-05-01T08:14:30.195Z"
      },
      {
        "duration": 11,
        "start_time": "2023-05-01T08:14:30.701Z"
      },
      {
        "duration": 18,
        "start_time": "2023-05-01T08:14:31.495Z"
      },
      {
        "duration": 7,
        "start_time": "2023-05-01T08:14:33.507Z"
      },
      {
        "duration": 5,
        "start_time": "2023-05-01T08:14:34.838Z"
      },
      {
        "duration": 7,
        "start_time": "2023-05-01T08:14:36.041Z"
      },
      {
        "duration": 6,
        "start_time": "2023-05-01T08:15:13.825Z"
      },
      {
        "duration": 12,
        "start_time": "2023-05-01T08:17:38.511Z"
      },
      {
        "duration": 7,
        "start_time": "2023-05-01T08:17:43.065Z"
      },
      {
        "duration": 6,
        "start_time": "2023-05-01T08:19:40.000Z"
      },
      {
        "duration": 74,
        "start_time": "2023-05-01T08:20:01.099Z"
      },
      {
        "duration": 13,
        "start_time": "2023-05-01T08:20:06.187Z"
      },
      {
        "duration": 13,
        "start_time": "2023-05-01T08:23:00.358Z"
      },
      {
        "duration": 8,
        "start_time": "2023-05-01T08:24:25.852Z"
      },
      {
        "duration": 13,
        "start_time": "2023-05-01T08:25:53.007Z"
      },
      {
        "duration": 14,
        "start_time": "2023-05-01T08:29:42.776Z"
      },
      {
        "duration": 13,
        "start_time": "2023-05-01T08:29:55.535Z"
      },
      {
        "duration": 7,
        "start_time": "2023-05-01T08:34:38.173Z"
      },
      {
        "duration": 71,
        "start_time": "2023-05-01T08:35:36.341Z"
      },
      {
        "duration": 14,
        "start_time": "2023-05-01T08:35:40.260Z"
      },
      {
        "duration": 13,
        "start_time": "2023-05-01T08:36:13.619Z"
      },
      {
        "duration": 16,
        "start_time": "2023-05-01T08:36:58.820Z"
      },
      {
        "duration": 12,
        "start_time": "2023-05-01T08:38:42.412Z"
      },
      {
        "duration": 5,
        "start_time": "2023-05-01T08:39:35.679Z"
      },
      {
        "duration": 11,
        "start_time": "2023-05-01T08:39:42.427Z"
      },
      {
        "duration": 5,
        "start_time": "2023-05-01T08:40:08.056Z"
      },
      {
        "duration": 10,
        "start_time": "2023-05-01T08:44:23.930Z"
      },
      {
        "duration": 8,
        "start_time": "2023-05-01T08:45:19.617Z"
      },
      {
        "duration": 332,
        "start_time": "2023-05-01T08:45:42.670Z"
      },
      {
        "duration": 8,
        "start_time": "2023-05-01T08:45:52.954Z"
      },
      {
        "duration": 14,
        "start_time": "2023-05-01T08:46:24.117Z"
      },
      {
        "duration": 8,
        "start_time": "2023-05-01T08:46:30.141Z"
      },
      {
        "duration": 6,
        "start_time": "2023-05-01T08:46:48.839Z"
      },
      {
        "duration": 6,
        "start_time": "2023-05-01T08:47:06.414Z"
      },
      {
        "duration": 5,
        "start_time": "2023-05-01T08:47:25.963Z"
      },
      {
        "duration": 68,
        "start_time": "2023-05-01T08:59:14.456Z"
      },
      {
        "duration": 1715,
        "start_time": "2023-05-01T08:59:19.717Z"
      },
      {
        "duration": 8,
        "start_time": "2023-05-01T08:59:28.901Z"
      },
      {
        "duration": 8,
        "start_time": "2023-05-01T08:59:44.961Z"
      },
      {
        "duration": 12,
        "start_time": "2023-05-01T09:01:07.022Z"
      },
      {
        "duration": 14,
        "start_time": "2023-05-01T09:02:01.364Z"
      },
      {
        "duration": 8,
        "start_time": "2023-05-01T09:02:44.539Z"
      },
      {
        "duration": 1180,
        "start_time": "2023-05-01T09:06:17.796Z"
      },
      {
        "duration": 4,
        "start_time": "2023-05-01T09:06:31.289Z"
      },
      {
        "duration": 4,
        "start_time": "2023-05-01T09:07:09.134Z"
      },
      {
        "duration": 533,
        "start_time": "2023-05-01T09:07:12.164Z"
      },
      {
        "duration": 991,
        "start_time": "2023-05-01T09:07:39.911Z"
      },
      {
        "duration": 88,
        "start_time": "2023-05-01T09:07:40.904Z"
      },
      {
        "duration": 15,
        "start_time": "2023-05-01T09:07:40.994Z"
      },
      {
        "duration": 7,
        "start_time": "2023-05-01T09:07:41.010Z"
      },
      {
        "duration": 13,
        "start_time": "2023-05-01T09:07:41.018Z"
      },
      {
        "duration": 10,
        "start_time": "2023-05-01T09:07:41.032Z"
      },
      {
        "duration": 13,
        "start_time": "2023-05-01T09:07:41.044Z"
      },
      {
        "duration": 51,
        "start_time": "2023-05-01T09:07:41.058Z"
      },
      {
        "duration": 6,
        "start_time": "2023-05-01T09:07:41.110Z"
      },
      {
        "duration": 30,
        "start_time": "2023-05-01T09:07:41.118Z"
      },
      {
        "duration": 9,
        "start_time": "2023-05-01T09:07:41.149Z"
      },
      {
        "duration": 9,
        "start_time": "2023-05-01T09:07:41.159Z"
      },
      {
        "duration": 4,
        "start_time": "2023-05-01T09:07:41.169Z"
      },
      {
        "duration": 20,
        "start_time": "2023-05-01T09:07:41.175Z"
      },
      {
        "duration": 8,
        "start_time": "2023-05-01T09:07:41.197Z"
      },
      {
        "duration": 24,
        "start_time": "2023-05-01T09:07:41.206Z"
      },
      {
        "duration": 17,
        "start_time": "2023-05-01T09:07:41.231Z"
      },
      {
        "duration": 21,
        "start_time": "2023-05-01T09:07:41.250Z"
      },
      {
        "duration": 25,
        "start_time": "2023-05-01T09:07:41.272Z"
      },
      {
        "duration": 12,
        "start_time": "2023-05-01T09:07:41.298Z"
      },
      {
        "duration": 562,
        "start_time": "2023-05-01T09:07:41.312Z"
      },
      {
        "duration": 218,
        "start_time": "2023-05-01T09:07:41.876Z"
      },
      {
        "duration": 312,
        "start_time": "2023-05-01T09:07:42.096Z"
      },
      {
        "duration": 224,
        "start_time": "2023-05-01T09:07:42.409Z"
      },
      {
        "duration": 280,
        "start_time": "2023-05-01T09:07:42.635Z"
      },
      {
        "duration": 167,
        "start_time": "2023-05-01T09:07:42.916Z"
      },
      {
        "duration": 11,
        "start_time": "2023-05-01T09:07:43.084Z"
      },
      {
        "duration": 155,
        "start_time": "2023-05-01T09:07:43.097Z"
      },
      {
        "duration": 5,
        "start_time": "2023-05-01T09:07:43.253Z"
      },
      {
        "duration": 336,
        "start_time": "2023-05-01T09:07:43.259Z"
      },
      {
        "duration": 8,
        "start_time": "2023-05-01T09:07:43.597Z"
      },
      {
        "duration": 8,
        "start_time": "2023-05-01T09:07:43.607Z"
      },
      {
        "duration": 7,
        "start_time": "2023-05-01T09:07:43.616Z"
      },
      {
        "duration": 19,
        "start_time": "2023-05-01T09:07:43.624Z"
      },
      {
        "duration": 12,
        "start_time": "2023-05-01T09:07:43.644Z"
      },
      {
        "duration": 3,
        "start_time": "2023-05-01T09:07:49.625Z"
      },
      {
        "duration": 36,
        "start_time": "2023-05-01T09:07:50.306Z"
      },
      {
        "duration": 15,
        "start_time": "2023-05-01T09:07:51.303Z"
      },
      {
        "duration": 8,
        "start_time": "2023-05-01T09:07:52.142Z"
      },
      {
        "duration": 12,
        "start_time": "2023-05-01T09:07:52.687Z"
      },
      {
        "duration": 11,
        "start_time": "2023-05-01T09:07:53.664Z"
      },
      {
        "duration": 10,
        "start_time": "2023-05-01T09:07:54.843Z"
      },
      {
        "duration": 58,
        "start_time": "2023-05-01T09:07:57.104Z"
      },
      {
        "duration": 6,
        "start_time": "2023-05-01T09:07:57.590Z"
      },
      {
        "duration": 39,
        "start_time": "2023-05-01T09:07:59.408Z"
      },
      {
        "duration": 6,
        "start_time": "2023-05-01T09:08:00.050Z"
      },
      {
        "duration": 5,
        "start_time": "2023-05-01T09:08:02.267Z"
      },
      {
        "duration": 3,
        "start_time": "2023-05-01T09:08:03.624Z"
      },
      {
        "duration": 9,
        "start_time": "2023-05-01T09:08:04.272Z"
      },
      {
        "duration": 9,
        "start_time": "2023-05-01T09:08:04.652Z"
      },
      {
        "duration": 18,
        "start_time": "2023-05-01T09:08:04.979Z"
      },
      {
        "duration": 7,
        "start_time": "2023-05-01T09:08:06.991Z"
      },
      {
        "duration": 6,
        "start_time": "2023-05-01T09:08:08.070Z"
      },
      {
        "duration": 8,
        "start_time": "2023-05-01T09:08:08.925Z"
      },
      {
        "duration": 4,
        "start_time": "2023-05-01T09:08:10.800Z"
      },
      {
        "duration": 460,
        "start_time": "2023-05-01T09:08:11.950Z"
      },
      {
        "duration": 264,
        "start_time": "2023-05-01T09:08:15.621Z"
      },
      {
        "duration": 270,
        "start_time": "2023-05-01T09:08:18.935Z"
      },
      {
        "duration": 217,
        "start_time": "2023-05-01T09:08:21.477Z"
      },
      {
        "duration": 294,
        "start_time": "2023-05-01T09:08:25.693Z"
      },
      {
        "duration": 320,
        "start_time": "2023-05-01T09:08:44.053Z"
      },
      {
        "duration": 211,
        "start_time": "2023-05-01T09:08:51.688Z"
      },
      {
        "duration": 274,
        "start_time": "2023-05-01T09:08:57.358Z"
      },
      {
        "duration": 220,
        "start_time": "2023-05-01T09:09:02.713Z"
      },
      {
        "duration": 436,
        "start_time": "2023-05-01T09:09:08.271Z"
      },
      {
        "duration": 155,
        "start_time": "2023-05-01T09:09:19.450Z"
      },
      {
        "duration": 144,
        "start_time": "2023-05-01T09:09:24.894Z"
      },
      {
        "duration": 207,
        "start_time": "2023-05-01T09:09:44.570Z"
      },
      {
        "duration": 385,
        "start_time": "2023-05-01T09:09:47.248Z"
      },
      {
        "duration": 168,
        "start_time": "2023-05-01T09:10:01.618Z"
      },
      {
        "duration": 5,
        "start_time": "2023-05-01T09:11:12.099Z"
      },
      {
        "duration": 139,
        "start_time": "2023-05-01T09:11:14.446Z"
      },
      {
        "duration": 5,
        "start_time": "2023-05-01T09:11:17.622Z"
      },
      {
        "duration": 9,
        "start_time": "2023-05-01T09:12:33.611Z"
      },
      {
        "duration": 5,
        "start_time": "2023-05-01T09:12:54.417Z"
      },
      {
        "duration": 316,
        "start_time": "2023-05-01T09:12:55.734Z"
      },
      {
        "duration": 9,
        "start_time": "2023-05-01T09:13:25.526Z"
      },
      {
        "duration": 10,
        "start_time": "2023-05-01T09:13:41.513Z"
      },
      {
        "duration": 9,
        "start_time": "2023-05-01T09:13:43.793Z"
      },
      {
        "duration": 19,
        "start_time": "2023-05-01T09:13:46.782Z"
      },
      {
        "duration": 13,
        "start_time": "2023-05-01T09:15:00.489Z"
      },
      {
        "duration": 9,
        "start_time": "2023-05-01T09:16:59.913Z"
      },
      {
        "duration": 5,
        "start_time": "2023-05-01T09:19:09.899Z"
      },
      {
        "duration": 1439,
        "start_time": "2023-05-01T12:59:06.189Z"
      },
      {
        "duration": 160,
        "start_time": "2023-05-01T12:59:07.633Z"
      },
      {
        "duration": 29,
        "start_time": "2023-05-01T12:59:07.796Z"
      },
      {
        "duration": 10,
        "start_time": "2023-05-01T12:59:07.828Z"
      },
      {
        "duration": 28,
        "start_time": "2023-05-01T12:59:07.840Z"
      },
      {
        "duration": 17,
        "start_time": "2023-05-01T12:59:07.872Z"
      },
      {
        "duration": 20,
        "start_time": "2023-05-01T12:59:07.891Z"
      },
      {
        "duration": 90,
        "start_time": "2023-05-01T12:59:07.914Z"
      },
      {
        "duration": 8,
        "start_time": "2023-05-01T12:59:08.007Z"
      },
      {
        "duration": 80,
        "start_time": "2023-05-01T12:59:08.018Z"
      },
      {
        "duration": 6,
        "start_time": "2023-05-01T12:59:08.101Z"
      },
      {
        "duration": 10,
        "start_time": "2023-05-01T12:59:08.109Z"
      },
      {
        "duration": 13,
        "start_time": "2023-05-01T12:59:08.121Z"
      },
      {
        "duration": 18,
        "start_time": "2023-05-01T12:59:08.136Z"
      },
      {
        "duration": 22,
        "start_time": "2023-05-01T12:59:08.162Z"
      },
      {
        "duration": 28,
        "start_time": "2023-05-01T12:59:08.187Z"
      },
      {
        "duration": 13,
        "start_time": "2023-05-01T12:59:08.217Z"
      },
      {
        "duration": 38,
        "start_time": "2023-05-01T12:59:08.231Z"
      },
      {
        "duration": 17,
        "start_time": "2023-05-01T12:59:08.272Z"
      },
      {
        "duration": 27,
        "start_time": "2023-05-01T12:59:08.291Z"
      },
      {
        "duration": 737,
        "start_time": "2023-05-01T12:59:08.320Z"
      },
      {
        "duration": 271,
        "start_time": "2023-05-01T12:59:09.060Z"
      },
      {
        "duration": 410,
        "start_time": "2023-05-01T12:59:09.333Z"
      },
      {
        "duration": 293,
        "start_time": "2023-05-01T12:59:09.746Z"
      },
      {
        "duration": 377,
        "start_time": "2023-05-01T12:59:10.041Z"
      },
      {
        "duration": 241,
        "start_time": "2023-05-01T12:59:10.420Z"
      },
      {
        "duration": 8,
        "start_time": "2023-05-01T12:59:10.664Z"
      },
      {
        "duration": 235,
        "start_time": "2023-05-01T12:59:10.675Z"
      },
      {
        "duration": 7,
        "start_time": "2023-05-01T12:59:10.913Z"
      },
      {
        "duration": 472,
        "start_time": "2023-05-01T12:59:10.922Z"
      },
      {
        "duration": 25,
        "start_time": "2023-05-01T12:59:11.396Z"
      },
      {
        "duration": 14,
        "start_time": "2023-05-01T12:59:11.427Z"
      },
      {
        "duration": 12,
        "start_time": "2023-05-01T12:59:11.444Z"
      },
      {
        "duration": 35,
        "start_time": "2023-05-01T12:59:11.458Z"
      },
      {
        "duration": 20,
        "start_time": "2023-05-01T12:59:11.495Z"
      },
      {
        "duration": 1063,
        "start_time": "2023-05-01T13:24:28.682Z"
      },
      {
        "duration": 86,
        "start_time": "2023-05-01T13:24:29.747Z"
      },
      {
        "duration": 31,
        "start_time": "2023-05-01T13:24:29.834Z"
      },
      {
        "duration": 16,
        "start_time": "2023-05-01T13:24:29.870Z"
      },
      {
        "duration": 16,
        "start_time": "2023-05-01T13:24:29.889Z"
      },
      {
        "duration": 13,
        "start_time": "2023-05-01T13:24:29.907Z"
      },
      {
        "duration": 35,
        "start_time": "2023-05-01T13:24:29.922Z"
      },
      {
        "duration": 51,
        "start_time": "2023-05-01T13:24:29.964Z"
      },
      {
        "duration": 6,
        "start_time": "2023-05-01T13:24:30.018Z"
      },
      {
        "duration": 36,
        "start_time": "2023-05-01T13:24:30.026Z"
      },
      {
        "duration": 17,
        "start_time": "2023-05-01T13:24:30.064Z"
      },
      {
        "duration": 14,
        "start_time": "2023-05-01T13:24:30.084Z"
      },
      {
        "duration": 77,
        "start_time": "2023-05-01T13:24:30.100Z"
      },
      {
        "duration": 31,
        "start_time": "2023-05-01T13:24:30.184Z"
      },
      {
        "duration": 23,
        "start_time": "2023-05-01T13:24:30.217Z"
      },
      {
        "duration": 50,
        "start_time": "2023-05-01T13:24:30.241Z"
      },
      {
        "duration": 9,
        "start_time": "2023-05-01T13:24:30.293Z"
      },
      {
        "duration": 22,
        "start_time": "2023-05-01T13:24:30.303Z"
      },
      {
        "duration": 35,
        "start_time": "2023-05-01T13:24:30.327Z"
      },
      {
        "duration": 22,
        "start_time": "2023-05-01T13:24:30.364Z"
      },
      {
        "duration": 670,
        "start_time": "2023-05-01T13:24:30.388Z"
      },
      {
        "duration": 252,
        "start_time": "2023-05-01T13:24:31.059Z"
      },
      {
        "duration": 326,
        "start_time": "2023-05-01T13:24:31.313Z"
      },
      {
        "duration": 266,
        "start_time": "2023-05-01T13:24:31.641Z"
      },
      {
        "duration": 340,
        "start_time": "2023-05-01T13:24:31.909Z"
      },
      {
        "duration": 202,
        "start_time": "2023-05-01T13:24:32.251Z"
      },
      {
        "duration": 17,
        "start_time": "2023-05-01T13:24:32.455Z"
      },
      {
        "duration": 227,
        "start_time": "2023-05-01T13:24:32.473Z"
      },
      {
        "duration": 8,
        "start_time": "2023-05-01T13:24:32.702Z"
      },
      {
        "duration": 381,
        "start_time": "2023-05-01T13:24:32.711Z"
      },
      {
        "duration": 10,
        "start_time": "2023-05-01T13:24:33.094Z"
      },
      {
        "duration": 9,
        "start_time": "2023-05-01T13:24:33.106Z"
      },
      {
        "duration": 19,
        "start_time": "2023-05-01T13:24:33.117Z"
      },
      {
        "duration": 42,
        "start_time": "2023-05-01T13:24:33.138Z"
      },
      {
        "duration": 15,
        "start_time": "2023-05-01T13:24:33.184Z"
      }
    ],
    "kernelspec": {
      "display_name": "Python 3 (ipykernel)",
      "language": "python",
      "name": "python3"
    },
    "language_info": {
      "codemirror_mode": {
        "name": "ipython",
        "version": 3
      },
      "file_extension": ".py",
      "mimetype": "text/x-python",
      "name": "python",
      "nbconvert_exporter": "python",
      "pygments_lexer": "ipython3",
      "version": "3.9.5"
    },
    "toc": {
      "base_numbering": 1,
      "nav_menu": {},
      "number_sections": true,
      "sideBar": true,
      "skip_h1_title": true,
      "title_cell": "Table of Contents",
      "title_sidebar": "Contents",
      "toc_cell": false,
      "toc_position": {},
      "toc_section_display": true,
      "toc_window_display": false
    },
    "colab": {
      "provenance": []
    }
  },
  "nbformat": 4,
  "nbformat_minor": 0
}